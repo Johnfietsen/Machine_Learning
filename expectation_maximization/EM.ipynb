{
 "cells": [
  {
   "cell_type": "markdown",
   "metadata": {
    "deletable": false,
    "editable": false,
    "nbgrader": {
     "checksum": "f25c83be13de559cea0b2ee06de0fe5c",
     "grade": false,
     "grade_id": "cell-02487845739eb4fd",
     "locked": true,
     "schema_version": 1,
     "solution": false
    }
   },
   "source": [
    "### Lab 3: Expectation Maximization and Variational Autoencoder\n",
    "\n",
    "### Machine Learning 2 (2018/2019)\n",
    "\n",
    "* The lab exercises should be made in groups of two or three people.\n",
    "* The deadline is Friday, 31.05.\n",
    "* Assignment should be submitted through Canvas! Make sure to include your and your teammates' names with the submission.\n",
    "* Attach the .IPYNB (IPython Notebook) file containing your code and answers. Naming of the file should be \"studentid1\\_studentid2\\_lab#\", for example, the attached file should be \"12345\\_12346\\_lab1.ipynb\". Only use underscores (\"\\_\") to connect ids, otherwise the files cannot be parsed.\n",
    "\n",
    "Notes on implementation:\n",
    "\n",
    "* You should write your code and answers in an IPython Notebook: http://ipython.org/notebook.html. If you have problems, please ask.\n",
    "* Use __one cell__ for code and markdown answers only!\n",
    "    * Put all code in the cell with the ```# YOUR CODE HERE``` comment and overwrite the ```raise NotImplementedError()``` line.\n",
    "    * For theoretical questions, put your solution using LaTeX style formatting in the YOUR ANSWER HERE cell.\n",
    "* Among the first lines of your notebook should be \"%pylab inline\". This imports all required modules, and your plots will appear inline.\n",
    "* Large parts of you notebook will be graded automatically. Therefore it is important that your notebook can be run completely without errors and within a reasonable time limit. To test your notebook before submission, select Kernel -> Restart \\& Run All.\n",
    "$\\newcommand{\\bx}{\\mathbf{x}} \\newcommand{\\bpi}{\\mathbf{\\pi}} \\newcommand{\\bmu}{\\mathbf{\\mu}} \\newcommand{\\bX}{\\mathbf{X}} \\newcommand{\\bZ}{\\mathbf{Z}} \\newcommand{\\bz}{\\mathbf{z}}$"
   ]
  },
  {
   "cell_type": "markdown",
   "metadata": {
    "deletable": false,
    "editable": false,
    "nbgrader": {
     "checksum": "e4e05229ee79b55d6589e1ea8de68f32",
     "grade": false,
     "grade_id": "cell-a0a6fdb7ca694bee",
     "locked": true,
     "schema_version": 1,
     "solution": false
    }
   },
   "source": [
    "### Installing PyTorch\n",
    "\n",
    "In this lab we will use PyTorch. PyTorch is an open source deep learning framework primarily developed by Facebook's artificial-intelligence research group. In order to install PyTorch in your conda environment go to https://pytorch.org and select your operating system, conda, Python 3.6, no cuda. Copy the text from the \"Run this command:\" box. Now open a terminal and activate your 'ml2labs' conda environment. Paste the text and run. After the installation is done you should restart Jupyter."
   ]
  },
  {
   "cell_type": "markdown",
   "metadata": {
    "deletable": false,
    "editable": false,
    "nbgrader": {
     "checksum": "d9c3d77f550b5fd93b34fd18825c47f0",
     "grade": false,
     "grade_id": "cell-746cac8d9a21943b",
     "locked": true,
     "schema_version": 1,
     "solution": false
    }
   },
   "source": [
    "### MNIST data\n",
    "\n",
    "In this Lab we will use several methods for unsupervised learning on the MNIST dataset of written digits. The dataset contains digital images of handwritten numbers $0$ through $9$. Each image has 28x28 pixels that each take 256 values in a range from white ($= 0$) to  black ($=1$). The labels belonging to the images are also included. \n",
    "Fortunately, PyTorch comes with a MNIST data loader. The first time you run the box below it will download the MNIST data set. That can take a couple of minutes.\n",
    "The main data types in PyTorch are tensors. For Part 1, we will convert those tensors to numpy arrays. In Part 2, we will use the torch module to directly work with PyTorch tensors."
   ]
  },
  {
   "cell_type": "code",
   "execution_count": 1,
   "metadata": {
    "deletable": false,
    "editable": false,
    "nbgrader": {
     "checksum": "4fbc152afa1255331d7b88bf00b7156c",
     "grade": false,
     "grade_id": "cell-7c995be0fda080c0",
     "locked": true,
     "schema_version": 1,
     "solution": false
    }
   },
   "outputs": [
    {
     "name": "stdout",
     "output_type": "stream",
     "text": [
      "Populating the interactive namespace from numpy and matplotlib\n"
     ]
    },
    {
     "name": "stderr",
     "output_type": "stream",
     "text": [
      "/usr/local/lib/python3.6/site-packages/torchvision/datasets/mnist.py:43: UserWarning: train_labels has been renamed targets\n",
      "  warnings.warn(\"train_labels has been renamed targets\")\n",
      "/usr/local/lib/python3.6/site-packages/torchvision/datasets/mnist.py:53: UserWarning: train_data has been renamed data\n",
      "  warnings.warn(\"train_data has been renamed data\")\n"
     ]
    }
   ],
   "source": [
    "%pylab inline\n",
    "import torch\n",
    "from torchvision import datasets, transforms\n",
    "\n",
    "train_dataset = datasets.MNIST('../data', train=True, download=True,\n",
    "                   transform=transforms.Compose([\n",
    "                       transforms.ToTensor(),\n",
    "                       transforms.Normalize((0.1307,), (0.3081,))\n",
    "                   ]))\n",
    "\n",
    "train_labels = train_dataset.train_labels.numpy()\n",
    "train_data = train_dataset.train_data.numpy()\n",
    "# For EM we will use flattened data\n",
    "train_data = train_data.reshape(train_data.shape[0], -1)\n"
   ]
  },
  {
   "cell_type": "markdown",
   "metadata": {
    "deletable": false,
    "editable": false,
    "nbgrader": {
     "checksum": "4fc852f9bfb0bab10d4c23eada309e89",
     "grade": false,
     "grade_id": "cell-8b4a44df532b1867",
     "locked": true,
     "schema_version": 1,
     "solution": false
    }
   },
   "source": [
    "## Part 1: Expectation Maximization\n",
    "We will use the Expectation Maximization (EM) algorithm for the recognition of handwritten digits in the MNIST dataset. The images are modelled as a Bernoulli mixture model (see Bishop $\\S9.3.3$):\n",
    "$$\n",
    "p(\\bx|\\bmu, \\bpi) = \\sum_{k=1}^K  \\pi_k \\prod_{i=1}^D \\mu_{ki}^{x_i}(1-\\mu_{ki})^{(1-x_i)}\n",
    "$$\n",
    "where $x_i$ is the value of pixel $i$ in an image, $\\mu_{ki}$ represents the probability that pixel $i$ in class $k$ is black, and $\\{\\pi_1, \\ldots, \\pi_K\\}$ are the mixing coefficients of classes in the data. We want to use this data set to classify new images of handwritten numbers."
   ]
  },
  {
   "cell_type": "markdown",
   "metadata": {
    "deletable": false,
    "editable": false,
    "nbgrader": {
     "checksum": "54064637b7e7cf938c0f778d748a226a",
     "grade": false,
     "grade_id": "cell-af03fef663aa85b2",
     "locked": true,
     "schema_version": 1,
     "solution": false
    }
   },
   "source": [
    "### 1.1 Binary data (5 points)\n",
    "As we like to apply our Bernoulli mixture model, write a function `binarize` to convert the (flattened) MNIST data to binary images, where each pixel $x_i \\in \\{0,1\\}$, by thresholding at an appropriate level."
   ]
  },
  {
   "cell_type": "code",
   "execution_count": 2,
   "metadata": {
    "deletable": false,
    "nbgrader": {
     "checksum": "fe8607a4d734f7f26ef1ee1e54b33471",
     "grade": false,
     "grade_id": "cell-ec4365531ca57ef3",
     "locked": false,
     "schema_version": 1,
     "solution": true
    }
   },
   "outputs": [],
   "source": [
    "def binarize(X, threshold=125):\n",
    "    return np.array([[float(1) if e > threshold else float(0) for e in d] for d in X])\n"
   ]
  },
  {
   "cell_type": "code",
   "execution_count": 3,
   "metadata": {
    "deletable": false,
    "editable": false,
    "nbgrader": {
     "checksum": "231b2c9f29bc5c536c60cef4d74793a1",
     "grade": true,
     "grade_id": "cell-2f16f57cb68a83b3",
     "locked": true,
     "points": 5,
     "schema_version": 1,
     "solution": false
    }
   },
   "outputs": [],
   "source": [
    "# Test test test!\n",
    "bin_train_data = binarize(train_data)\n",
    "assert bin_train_data.dtype == np.float\n",
    "assert bin_train_data.shape == train_data.shape\n"
   ]
  },
  {
   "cell_type": "markdown",
   "metadata": {
    "deletable": false,
    "editable": false,
    "nbgrader": {
     "checksum": "a0a39404cc2f67078b399ee34653a3ac",
     "grade": false,
     "grade_id": "cell-462e747685e8670f",
     "locked": true,
     "schema_version": 1,
     "solution": false
    }
   },
   "source": [
    "Sample a few images of digits $2$, $3$ and $4$; and show both the original and the binarized image together with their label."
   ]
  },
  {
   "cell_type": "code",
   "execution_count": 4,
   "metadata": {
    "deletable": false,
    "nbgrader": {
     "checksum": "3f3c981f0fda5ba3bdfcefb9144305c7",
     "grade": true,
     "grade_id": "cell-784c6bd177a9aa42",
     "locked": false,
     "points": 5,
     "schema_version": 1,
     "solution": true
    }
   },
   "outputs": [
    {
     "data": {
      "image/png": "[encoded data removed]",
      "text/plain": [
       "<Figure size 432x288 with 5 Axes>"
      ]
     },
     "metadata": {
      "needs_background": "light"
     },
     "output_type": "display_data"
    },
    {
     "data": {
      "image/png": "[encoded data removed]",
      "text/plain": [
       "<Figure size 432x288 with 5 Axes>"
      ]
     },
     "metadata": {
      "needs_background": "light"
     },
     "output_type": "display_data"
    },
    {
     "data": {
      "image/png": "[encoded data removed]",
      "text/plain": [
       "<Figure size 432x288 with 5 Axes>"
      ]
     },
     "metadata": {
      "needs_background": "light"
     },
     "output_type": "display_data"
    },
    {
     "data": {
      "image/png": "[encoded data removed]",
      "text/plain": [
       "<Figure size 432x288 with 5 Axes>"
      ]
     },
     "metadata": {
      "needs_background": "light"
     },
     "output_type": "display_data"
    },
    {
     "data": {
      "image/png": "[encoded data removed]",
      "text/plain": [
       "<Figure size 432x288 with 5 Axes>"
      ]
     },
     "metadata": {
      "needs_background": "light"
     },
     "output_type": "display_data"
    },
    {
     "data": {
      "image/png": "[encoded data removed]",
      "text/plain": [
       "<Figure size 432x288 with 5 Axes>"
      ]
     },
     "metadata": {
      "needs_background": "light"
     },
     "output_type": "display_data"
    }
   ],
   "source": [
    "def plot_digits(data, num_cols, targets=None, shape=(28,28)):\n",
    "    num_digits = data.shape[0]\n",
    "    num_rows = int(num_digits/num_cols)\n",
    "    for i in range(num_digits):\n",
    "        plt.subplot(num_rows, num_cols, i+1)\n",
    "        plt.imshow(data[i].reshape(shape), interpolation='none', cmap='Greys')\n",
    "        if targets is not None:\n",
    "            plt.title(int(targets[i]))\n",
    "        plt.axis('off')\n",
    "    plt.tight_layout()\n",
    "    plt.show()\n",
    "\n",
    "nr = 5\n",
    "\n",
    "bin_digit_2 = bin_train_data[np.where(train_labels==2)]\n",
    "bin_digit_3 = bin_train_data[np.where(train_labels==3)]\n",
    "bin_digit_4 = bin_train_data[np.where(train_labels==4)]\n",
    "\n",
    "digit_2 = train_data[np.where(train_labels==2)]\n",
    "digit_3 = train_data[np.where(train_labels==3)]\n",
    "digit_4 = train_data[np.where(train_labels==4)]\n",
    "\n",
    "plot_digits(digit_2[0:nr], nr, targets=2*np.ones(nr))\n",
    "plot_digits(bin_digit_2[0:nr], nr)\n",
    "plot_digits(digit_3[0:nr], nr, targets=3*np.ones(nr))\n",
    "plot_digits(bin_digit_3[0:nr], nr)\n",
    "plot_digits(digit_4[0:nr], nr, targets=4*np.ones(nr))\n",
    "plot_digits(bin_digit_4[0:nr], nr)\n"
   ]
  },
  {
   "cell_type": "markdown",
   "metadata": {
    "deletable": false,
    "editable": false,
    "nbgrader": {
     "checksum": "4b9da574d24193df76e96ed8ca62c7b0",
     "grade": false,
     "grade_id": "cell-56b33654497d4052",
     "locked": true,
     "schema_version": 1,
     "solution": false
    }
   },
   "source": [
    "### 1.2 Implementation (40 points)\n",
    "You are going to write a function ```EM(X, K, max_iter)``` that implements the EM algorithm on the Bernoulli mixture model. \n",
    "\n",
    "The only parameters the function has are:\n",
    "* ```X``` :: (NxD) array of input training images\n",
    "* ```K``` :: size of the latent space\n",
    "* ```max_iter``` :: maximum number of iterations, i.e. one E-step and one M-step\n",
    "\n",
    "You are free to specify your return statement.\n",
    "\n",
    "Make sure you use a sensible way of terminating the iteration process early to prevent unnecessarily running through all epochs. Vectorize computations using ```numpy``` as  much as possible.\n",
    "\n",
    "You should implement the `E_step(X, mu, pi)` and `M_step(X, gamma)` separately in the functions defined below. These you can then use in your function `EM(X, K, max_iter)`."
   ]
  },
  {
   "cell_type": "code",
   "execution_count": 5,
   "metadata": {
    "deletable": false,
    "nbgrader": {
     "checksum": "316c9131692747c363b5db8e9091d362",
     "grade": false,
     "grade_id": "cell-882b13c117a73cc4",
     "locked": false,
     "schema_version": 1,
     "solution": true
    }
   },
   "outputs": [],
   "source": [
    "def E_step(X, mu, pi):\n",
    "    \n",
    "    # calculate values\n",
    "    gamma = np.array([[pi[k]*np.prod(mu[k,:]**X[n,:]*(1-mu[k,:])**(1-X[n,:])) \n",
    "                       for k in range(mu.shape[0])] for n in range(X.shape[0])])\n",
    "    \n",
    "    # normalize\n",
    "    gamma = gamma / np.sum(gamma, axis=1)[:,None]\n",
    "\n",
    "#     gamma\n",
    "#     arr[arr > 255] = x\n",
    "#     # normalize\n",
    "#     gamma = np.array([gamma[n,:] / sum(gamma[n,:]) if sum(gamma[n,:]) != 0 \\\n",
    "#                       else np.zeros(len(gamma[n,:])) for n in range(gamma.shape[0])])\n",
    "\n",
    "    return gamma"
   ]
  },
  {
   "cell_type": "code",
   "execution_count": 6,
   "metadata": {
    "deletable": false,
    "editable": false,
    "nbgrader": {
     "checksum": "1418f4014e98024fc97446ce27766c1d",
     "grade": true,
     "grade_id": "cell-f7c7dd52d82e2498",
     "locked": true,
     "points": 15,
     "schema_version": 1,
     "solution": false
    }
   },
   "outputs": [],
   "source": [
    "# Let's test on 5 datapoints\n",
    "n_test = 5\n",
    "X_test = bin_train_data[:n_test]\n",
    "D_test, K_test = X_test.shape[1], 10\n",
    "\n",
    "np.random.seed(2018)\n",
    "mu_test = np.random.uniform(low=.25, high=.75, size=(K_test,D_test))\n",
    "pi_test = np.ones(K_test) / K_test\n",
    "\n",
    "gamma_test = E_step(X_test, mu_test, pi_test)\n",
    "assert gamma_test.shape == (n_test, K_test)\n"
   ]
  },
  {
   "cell_type": "code",
   "execution_count": 7,
   "metadata": {
    "deletable": false,
    "nbgrader": {
     "checksum": "2c426a613653174795cd9c8327ab6e20",
     "grade": false,
     "grade_id": "cell-f1b11b8765bd1ef6",
     "locked": false,
     "schema_version": 1,
     "solution": true
    }
   },
   "outputs": [],
   "source": [
    "def M_step(X, gamma):\n",
    "    \n",
    "    nk = np.sum(gamma, axis=0)[:,None]\n",
    "    \n",
    "    mu = gamma.T @ X / nk\n",
    "    pi = (nk / X.shape[0]).reshape(-1)\n",
    "    \n",
    "    return mu, pi"
   ]
  },
  {
   "cell_type": "code",
   "execution_count": 8,
   "metadata": {
    "deletable": false,
    "editable": false,
    "nbgrader": {
     "checksum": "0f60d48b8b22063cef560b42944a0aa4",
     "grade": true,
     "grade_id": "cell-6e7c751b30acfd45",
     "locked": true,
     "points": 15,
     "schema_version": 1,
     "solution": false
    }
   },
   "outputs": [],
   "source": [
    "# Oh, let's test again\n",
    "mu_test, pi_test = M_step(X_test, gamma_test)\n",
    "\n",
    "assert mu_test.shape == (K_test,D_test)\n",
    "assert pi_test.shape == (K_test, )\n"
   ]
  },
  {
   "cell_type": "code",
   "execution_count": 9,
   "metadata": {
    "deletable": false,
    "nbgrader": {
     "checksum": "acfec6384b058cb0ce1932006fbfebc4",
     "grade": true,
     "grade_id": "cell-d6c4368246dee7e6",
     "locked": false,
     "points": 10,
     "schema_version": 1,
     "solution": true
    }
   },
   "outputs": [],
   "source": [
    "def EM(X, K, max_iter, mu=None, pi=None, threshold=0.001):\n",
    "    \n",
    "    # initialize if not given\n",
    "    if mu is None:\n",
    "        mu = np.random.uniform(low=.25, high=.75, size=(K, X.shape[1]))      \n",
    "    if pi is None:\n",
    "        pi = np.ones(K) / K\n",
    "        \n",
    "    print('| iteration | convergence mu | convergence pi |')   \n",
    "    \n",
    "    i, converged = 0, False\n",
    "    while i < max_iter and converged == False:\n",
    "        \n",
    "        gamma = E_step(X, mu, pi)\n",
    "        mu_new, pi_new = M_step(X, gamma)\n",
    "        i += 1\n",
    "        \n",
    "        # calculate convergence of mu and pi\n",
    "        conv_mu = sum(abs(mu_new - mu))\n",
    "        conv_pi = sum(abs(pi_new - pi))\n",
    "        print('| %9i | %14f | %14f |' % (i, conv_mu, conv_pi))\n",
    "        \n",
    "        if conv_mu < threshold and conv_pi < threshold / 1000:\n",
    "            converged = True\n",
    "        else:\n",
    "            (mu, pi) = (mu_new, pi_new)\n",
    "        \n",
    "    return gamma, mu, pi, i"
   ]
  },
  {
   "cell_type": "markdown",
   "metadata": {
    "deletable": false,
    "editable": false,
    "nbgrader": {
     "checksum": "b4fc12faa0da660f7a4d9cc7deb41b25",
     "grade": false,
     "grade_id": "cell-e1077ed3b83489be",
     "locked": true,
     "schema_version": 1,
     "solution": false
    }
   },
   "source": [
    "### 1.3 Three digits experiment (10 points)\n",
    "In analogue with Bishop $\\S9.3.3$, sample a training set consisting of only __binary__ images of written digits $2$, $3$, and $4$. Run your EM algorithm and show the reconstructed digits."
   ]
  },
  {
   "cell_type": "code",
   "execution_count": 10,
   "metadata": {
    "deletable": false,
    "nbgrader": {
     "checksum": "bdbce0fad0ed151063d4c489ce999e3e",
     "grade": true,
     "grade_id": "cell-477155d0264d7259",
     "locked": false,
     "points": 5,
     "schema_version": 1,
     "solution": true
    }
   },
   "outputs": [
    {
     "name": "stdout",
     "output_type": "stream",
     "text": [
      "| iteration | convergence mu | convergence pi |\n",
      "|         1 |     867.122165 |       0.640499 |\n",
      "|         2 |      57.916972 |       0.228577 |\n",
      "|         3 |      34.103832 |       0.136211 |\n",
      "|         4 |      19.468710 |       0.086018 |\n",
      "|         5 |      12.481052 |       0.057407 |\n",
      "|         6 |       9.040945 |       0.033387 |\n",
      "|         7 |       6.672932 |       0.015862 |\n",
      "|         8 |       5.129119 |       0.007984 |\n",
      "|         9 |       4.829328 |       0.002344 |\n",
      "|        10 |       6.150472 |       0.004523 |\n",
      "|        11 |       9.413302 |       0.009886 |\n",
      "|        12 |      15.195789 |       0.019138 |\n",
      "|        13 |      17.142470 |       0.001329 |\n",
      "|        14 |      11.582766 |       0.014095 |\n",
      "|        15 |       6.078327 |       0.009232 |\n",
      "|        16 |       5.060138 |       0.013487 |\n",
      "|        17 |       2.633415 |       0.006977 |\n",
      "|        18 |       2.886490 |       0.010259 |\n",
      "|        19 |       2.640032 |       0.010515 |\n",
      "|        20 |       1.896453 |       0.007713 |\n",
      "|        21 |       0.927953 |       0.003542 |\n",
      "|        22 |       0.514293 |       0.001831 |\n",
      "|        23 |       0.251279 |       0.000767 |\n",
      "|        24 |       0.151345 |       0.000364 |\n",
      "|        25 |       0.087834 |       0.000081 |\n",
      "|        26 |       0.043768 |       0.000093 |\n",
      "|        27 |       0.024132 |       0.000074 |\n",
      "|        28 |       0.014995 |       0.000056 |\n",
      "|        29 |       0.009735 |       0.000042 |\n",
      "|        30 |       0.006457 |       0.000030 |\n",
      "|        31 |       0.004339 |       0.000021 |\n",
      "|        32 |       0.053270 |       0.000108 |\n",
      "|        33 |       0.125361 |       0.000392 |\n",
      "|        34 |       0.047188 |       0.000224 |\n",
      "|        35 |       0.019923 |       0.000120 |\n",
      "|        36 |       0.047486 |       0.000052 |\n",
      "|        37 |       0.051495 |       0.000151 |\n",
      "|        38 |       0.026655 |       0.000111 |\n",
      "|        39 |       0.023049 |       0.000099 |\n",
      "|        40 |       0.033967 |       0.000124 |\n",
      "|        41 |       0.027188 |       0.000114 |\n",
      "|        42 |       0.017766 |       0.000084 |\n",
      "|        43 |       0.044097 |       0.000054 |\n",
      "|        44 |       0.012735 |       0.000015 |\n",
      "|        45 |       0.011559 |       0.000024 |\n",
      "|        46 |       0.036801 |       0.000099 |\n",
      "|        47 |       0.006863 |       0.000024 |\n",
      "|        48 |       0.003847 |       0.000012 |\n",
      "|        49 |       0.002478 |       0.000010 |\n",
      "|        50 |       0.001668 |       0.000007 |\n",
      "|        51 |       0.001150 |       0.000005 |\n",
      "|        52 |       0.000804 |       0.000004 |\n",
      "|        53 |       0.000569 |       0.000003 |\n",
      "|        54 |       0.000406 |       0.000002 |\n",
      "|        55 |       0.000291 |       0.000001 |\n",
      "|        56 |       0.000210 |       0.000001 |\n"
     ]
    },
    {
     "data": {
      "image/png": "[encoded data removed]",
      "text/plain": [
       "<Figure size 432x288 with 3 Axes>"
      ]
     },
     "metadata": {
      "needs_background": "light"
     },
     "output_type": "display_data"
    },
    {
     "name": "stdout",
     "output_type": "stream",
     "text": [
      "true mixing coefficients: 0.332274 0.341922 0.325804\n",
      "identified coefficients : 0.307952 0.335510 0.356538\n"
     ]
    }
   ],
   "source": [
    "K = 3\n",
    "max_iter = 100\n",
    "\n",
    "np.random.seed(2019)\n",
    "bin_train_data_234 = np.concatenate((bin_digit_2, bin_digit_3, bin_digit_4), axis=0)\n",
    "\n",
    "gamma_3, mu_3, pi_3, nr_iter_3 = EM(bin_train_data_234, K, max_iter)\n",
    "\n",
    "plot_digits(mu_3, K)\n",
    "\n",
    "all_digits = len(bin_train_data_234)\n",
    "print('true mixing coefficients: %8f %8f %8f' % (len(bin_digit_2)/all_digits,\n",
    "                                                 len(bin_digit_3)/all_digits,\n",
    "                                                 len(bin_digit_4)/all_digits))\n",
    "print('identified coefficients : %8f %8f %8f' % (pi_3[1], pi_3[0], pi_3[2]))  "
   ]
  },
  {
   "cell_type": "markdown",
   "metadata": {
    "deletable": false,
    "editable": false,
    "nbgrader": {
     "checksum": "485543f4893938d2a9dc1c17d8221cbc",
     "grade": false,
     "grade_id": "cell-88c9664f995b1909",
     "locked": true,
     "schema_version": 1,
     "solution": false
    }
   },
   "source": [
    "Can you identify which element in the latent space corresponds to which digit? What are the identified mixing coefficients for digits $2$, $3$ and $4$, and how do these compare to the true ones?"
   ]
  },
  {
   "cell_type": "markdown",
   "metadata": {
    "deletable": false,
    "nbgrader": {
     "checksum": "ae7b5acea6089e2590059f90b0d0a0be",
     "grade": true,
     "grade_id": "cell-3680ae2159c48193",
     "locked": false,
     "points": 5,
     "schema_version": 1,
     "solution": true
    }
   },
   "source": [
    "Yes it is clearly visible. The first one corresponds to 3, the second one to 2 and the last one to the digit 4. The identified coefficients are fairly similar to the true mixing coefficients. Interestingly enough, the algorithm overestimates the number of 4's in the dataset, even though one would think these are visually the easiest to distinguish from 2's and 3's."
   ]
  },
  {
   "cell_type": "markdown",
   "metadata": {
    "deletable": false,
    "editable": false,
    "nbgrader": {
     "checksum": "98e04feb59a36867367b3027df9e226d",
     "grade": false,
     "grade_id": "cell-0891dda1c3e80e9a",
     "locked": true,
     "schema_version": 1,
     "solution": false
    }
   },
   "source": [
    "### 1.4 Experiments (20 points)\n",
    "Perform the follow-up experiments listed below using your implementation of the EM algorithm. For each of these, describe/comment on the obtained results and give an explanation. You may still use your dataset with only digits 2, 3 and 4 as otherwise computations can take very long."
   ]
  },
  {
   "cell_type": "markdown",
   "metadata": {
    "deletable": false,
    "editable": false,
    "nbgrader": {
     "checksum": "439067186fa3ef1d7261a9bcf5a84ea6",
     "grade": false,
     "grade_id": "cell-06fe1b1355689928",
     "locked": true,
     "schema_version": 1,
     "solution": false
    }
   },
   "source": [
    "#### 1.4.1 Size of the latent space (5 points)\n",
    "Run EM with $K$ larger or smaller than the true number of classes. Describe your results."
   ]
  },
  {
   "cell_type": "code",
   "execution_count": 11,
   "metadata": {
    "deletable": false,
    "nbgrader": {
     "checksum": "791512aeadd30c4b586b966ca10e6fad",
     "grade": true,
     "grade_id": "cell-6c9057f2546b7215",
     "locked": false,
     "points": 2,
     "schema_version": 1,
     "solution": true
    }
   },
   "outputs": [
    {
     "name": "stdout",
     "output_type": "stream",
     "text": [
      "| iteration | convergence mu | convergence pi |\n",
      "|         1 |     582.411312 |       0.938907 |\n",
      "|         2 |      37.557007 |       0.395722 |\n",
      "|         3 |      23.216287 |       0.300990 |\n",
      "|         4 |      14.951826 |       0.198368 |\n",
      "|         5 |      12.970792 |       0.146364 |\n",
      "|         6 |       6.727180 |       0.073126 |\n",
      "|         7 |       2.443868 |       0.026471 |\n",
      "|         8 |       1.163842 |       0.011434 |\n",
      "|         9 |       0.671185 |       0.006743 |\n",
      "|        10 |       0.662620 |       0.006118 |\n",
      "|        11 |       0.847842 |       0.006804 |\n",
      "|        12 |       0.688252 |       0.005396 |\n",
      "|        13 |       0.412670 |       0.003388 |\n",
      "|        14 |       0.706406 |       0.004730 |\n",
      "|        15 |       0.526656 |       0.003750 |\n",
      "|        16 |       0.320434 |       0.002227 |\n",
      "|        17 |       0.175800 |       0.001181 |\n",
      "|        18 |       0.094072 |       0.000598 |\n",
      "|        19 |       0.212292 |       0.001045 |\n",
      "|        20 |       0.292793 |       0.001729 |\n",
      "|        21 |       0.164049 |       0.001114 |\n",
      "|        22 |       0.089064 |       0.000607 |\n",
      "|        23 |       0.047347 |       0.000315 |\n",
      "|        24 |       0.024878 |       0.000159 |\n",
      "|        25 |       0.013018 |       0.000079 |\n",
      "|        26 |       0.006819 |       0.000039 |\n",
      "|        27 |       0.003587 |       0.000019 |\n",
      "|        28 |       0.001899 |       0.000009 |\n",
      "|        29 |       0.001015 |       0.000004 |\n",
      "|        30 |       0.000997 |       0.000004 |\n",
      "|        31 |       0.043234 |       0.000168 |\n",
      "|        32 |       0.028246 |       0.000149 |\n",
      "|        33 |       0.011939 |       0.000073 |\n",
      "|        34 |       0.005953 |       0.000034 |\n",
      "|        35 |       0.003044 |       0.000016 |\n",
      "|        36 |       0.001578 |       0.000007 |\n",
      "|        37 |       0.000828 |       0.000003 |\n",
      "|        38 |       0.000441 |       0.000001 |\n",
      "|        39 |       0.000239 |       0.000001 |\n"
     ]
    },
    {
     "data": {
      "image/png": "[encoded data removed]",
      "text/plain": [
       "<Figure size 432x288 with 2 Axes>"
      ]
     },
     "metadata": {
      "needs_background": "light"
     },
     "output_type": "display_data"
    },
    {
     "name": "stdout",
     "output_type": "stream",
     "text": [
      "| iteration | convergence mu | convergence pi |\n",
      "|         1 |    1178.185099 |       0.915862 |\n",
      "|         2 |     109.103419 |       0.551931 |\n",
      "|         3 |      47.222683 |       0.140421 |\n",
      "|         4 |      22.167148 |       0.083550 |\n",
      "|         5 |      13.969690 |       0.048382 |\n",
      "|         6 |      10.107211 |       0.030857 |\n",
      "|         7 |       6.832177 |       0.018283 |\n",
      "|         8 |       5.359354 |       0.015049 |\n",
      "|         9 |       3.884743 |       0.009702 |\n",
      "|        10 |       2.922229 |       0.007326 |\n",
      "|        11 |       2.668167 |       0.007104 |\n",
      "|        12 |       1.839673 |       0.003890 |\n",
      "|        13 |       1.332765 |       0.002148 |\n",
      "|        14 |       1.232653 |       0.002443 |\n",
      "|        15 |       1.231542 |       0.003121 |\n",
      "|        16 |       0.877837 |       0.001726 |\n",
      "|        17 |       0.726056 |       0.000940 |\n",
      "|        18 |       0.665384 |       0.000402 |\n",
      "|        19 |       0.630966 |       0.000344 |\n",
      "|        20 |       0.602062 |       0.000476 |\n",
      "|        21 |       0.540092 |       0.000465 |\n",
      "|        22 |       0.471300 |       0.000552 |\n",
      "|        23 |       0.408456 |       0.000708 |\n",
      "|        24 |       0.368328 |       0.000814 |\n",
      "|        25 |       0.343693 |       0.000845 |\n",
      "|        26 |       0.319660 |       0.000835 |\n",
      "|        27 |       0.313708 |       0.000874 |\n",
      "|        28 |       0.307148 |       0.000873 |\n",
      "|        29 |       0.327396 |       0.000795 |\n",
      "|        30 |       0.290495 |       0.000626 |\n",
      "|        31 |       0.263412 |       0.000559 |\n",
      "|        32 |       0.245446 |       0.000501 |\n",
      "|        33 |       0.228286 |       0.000451 |\n",
      "|        34 |       0.217688 |       0.000429 |\n",
      "|        35 |       0.264817 |       0.000585 |\n",
      "|        36 |       0.435118 |       0.001047 |\n",
      "|        37 |       0.475572 |       0.001216 |\n",
      "|        38 |       0.553048 |       0.001404 |\n",
      "|        39 |       0.691706 |       0.001757 |\n",
      "|        40 |       0.865348 |       0.001966 |\n",
      "|        41 |       0.973324 |       0.001985 |\n",
      "|        42 |       1.066524 |       0.001937 |\n",
      "|        43 |       1.192089 |       0.002020 |\n",
      "|        44 |       1.322868 |       0.001994 |\n",
      "|        45 |       1.158082 |       0.001449 |\n",
      "|        46 |       0.886916 |       0.000739 |\n",
      "|        47 |       0.702524 |       0.000397 |\n",
      "|        48 |       0.544424 |       0.000205 |\n",
      "|        49 |       0.430079 |       0.000171 |\n",
      "|        50 |       0.374692 |       0.000269 |\n",
      "|        51 |       0.323608 |       0.000276 |\n",
      "|        52 |       0.282262 |       0.000266 |\n",
      "|        53 |       0.312638 |       0.000535 |\n",
      "|        54 |       0.590624 |       0.001499 |\n",
      "|        55 |       0.472656 |       0.000893 |\n",
      "|        56 |       0.450129 |       0.000764 |\n",
      "|        57 |       0.416361 |       0.000576 |\n",
      "|        58 |       0.369205 |       0.000345 |\n",
      "|        59 |       0.329366 |       0.000153 |\n",
      "|        60 |       0.307068 |       0.000077 |\n",
      "|        61 |       0.292753 |       0.000209 |\n",
      "|        62 |       0.293458 |       0.000350 |\n",
      "|        63 |       0.265988 |       0.000358 |\n",
      "|        64 |       0.289292 |       0.000152 |\n",
      "|        65 |       0.245801 |       0.000287 |\n",
      "|        66 |       0.219718 |       0.000315 |\n",
      "|        67 |       0.194018 |       0.000305 |\n",
      "|        68 |       0.169720 |       0.000275 |\n",
      "|        69 |       0.147867 |       0.000236 |\n",
      "|        70 |       0.128685 |       0.000197 |\n",
      "|        71 |       0.112029 |       0.000162 |\n",
      "|        72 |       0.097748 |       0.000133 |\n",
      "|        73 |       0.085699 |       0.000110 |\n",
      "|        74 |       0.075645 |       0.000091 |\n",
      "|        75 |       0.067166 |       0.000077 |\n",
      "|        76 |       0.059572 |       0.000067 |\n",
      "|        77 |       0.052282 |       0.000060 |\n",
      "|        78 |       0.045323 |       0.000056 |\n",
      "|        79 |       0.044710 |       0.000038 |\n",
      "|        80 |       0.074276 |       0.000098 |\n",
      "|        81 |       0.049943 |       0.000032 |\n",
      "|        82 |       0.043421 |       0.000032 |\n",
      "|        83 |       0.038308 |       0.000033 |\n",
      "|        84 |       0.033864 |       0.000035 |\n",
      "|        85 |       0.029778 |       0.000035 |\n",
      "|        86 |       0.025912 |       0.000032 |\n",
      "|        87 |       0.022286 |       0.000028 |\n",
      "|        88 |       0.019027 |       0.000023 |\n",
      "|        89 |       0.016184 |       0.000018 |\n",
      "|        90 |       0.013755 |       0.000015 |\n",
      "|        91 |       0.073501 |       0.000109 |\n",
      "|        92 |       0.052490 |       0.000130 |\n",
      "|        93 |       0.047309 |       0.000120 |\n",
      "|        94 |       0.026300 |       0.000063 |\n",
      "|        95 |       0.021102 |       0.000041 |\n",
      "|        96 |       0.017888 |       0.000028 |\n",
      "|        97 |       0.015430 |       0.000021 |\n",
      "|        98 |       0.013432 |       0.000016 |\n",
      "|        99 |       0.011761 |       0.000013 |\n",
      "|       100 |       0.010331 |       0.000010 |\n"
     ]
    },
    {
     "data": {
      "image/png": "[encoded data removed]",
      "text/plain": [
       "<Figure size 432x288 with 4 Axes>"
      ]
     },
     "metadata": {
      "needs_background": "light"
     },
     "output_type": "display_data"
    }
   ],
   "source": [
    "np.random.seed(2019)\n",
    "\n",
    "K = 2\n",
    "gamma_2, mu_2, _, _ = EM(bin_train_data_234, K, max_iter)\n",
    "plot_digits(mu_2, K)\n",
    "\n",
    "K = 4\n",
    "gamma_4, mu_4, _, _ = EM(bin_train_data_234, K, max_iter)\n",
    "plot_digits(mu_4, K)\n"
   ]
  },
  {
   "cell_type": "markdown",
   "metadata": {
    "deletable": false,
    "nbgrader": {
     "checksum": "e12e40c2d2165e3bb500b5504128910d",
     "grade": true,
     "grade_id": "cell-f01c37653160244b",
     "locked": false,
     "points": 3,
     "schema_version": 1,
     "solution": true
    }
   },
   "source": [
    "For K = 2, the convergence is faster (39 iterations compared to 56 for K = 3). The two numbers that are the result of training resemble a 4 and a 3, although the 3 seems a bit warped towards a 2. This makes sense, since the algorithm probably maps 2 and 3 to the same K mean since they look fairly similar.\n",
    "\n",
    "For K = 4, the convergene is slower (it hits the limit of 100 iterations). This is most likely caused due to the fact that finding more K-means takes more time to converge. The resulting means show that the algorithm has created two means for 4's, one that is a bit italic compared to the other."
   ]
  },
  {
   "cell_type": "markdown",
   "metadata": {
    "deletable": false,
    "editable": false,
    "nbgrader": {
     "checksum": "b306681523a2e35eea310ac10bb68999",
     "grade": false,
     "grade_id": "cell-cf478d67239b7f2e",
     "locked": true,
     "schema_version": 1,
     "solution": false
    }
   },
   "source": [
    "#### 1.4.2 Identify misclassifications (10 points)\n",
    "How can you use the data labels to assign a label to each of the clusters/latent variables? Use this to identify images that are 'misclassified' and try to understand why they are. Report your findings."
   ]
  },
  {
   "cell_type": "code",
   "execution_count": 12,
   "metadata": {
    "deletable": false,
    "nbgrader": {
     "checksum": "000c11bd8756a4e24296c7c55d3ee17e",
     "grade": true,
     "grade_id": "cell-daa1a492fbba5c7e",
     "locked": false,
     "points": 5,
     "schema_version": 1,
     "solution": true
    }
   },
   "outputs": [
    {
     "data": {
      "image/png": "[encoded data removed]",
      "text/plain": [
       "<Figure size 432x288 with 20 Axes>"
      ]
     },
     "metadata": {
      "needs_background": "light"
     },
     "output_type": "display_data"
    },
    {
     "name": "stdout",
     "output_type": "stream",
     "text": [
      "| correctly classified | av std gamma correct | av std gamma incorrect | \n",
      "|             0.905136 |             0.470067 |               0.460736 |\n"
     ]
    }
   ],
   "source": [
    "lables_234 = np.concatenate((1*np.ones(len(bin_digit_2)), 0*np.ones(len(bin_digit_3)),\\\n",
    "                             2*np.ones(len(bin_digit_4))))\n",
    "predictions_234 = np.argmax(gamma_3, axis=1) \n",
    "correct = (lables_234 == predictions_234)\n",
    "\n",
    "gamma_corr = [np.std(gamma_3[i]) for i in range(len(correct)) if correct[i] == True]\n",
    "gamma_incr = [np.std(gamma_3[i]) for i in range(len(correct)) if correct[i] == False]\n",
    "\n",
    "np.random.seed(2019)\n",
    "samples_incorrect = []\n",
    "while len(samples_incorrect) < 20:\n",
    "    i = int(np.random.uniform(0, len(correct)))\n",
    "    if correct[i] == False:\n",
    "        samples_incorrect.append(bin_train_data_234[i])\n",
    "\n",
    "plot_digits(np.array(samples_incorrect), 5)\n",
    "\n",
    "print('| correctly classified | av std gamma correct | av std gamma incorrect | \\n' +\\\n",
    "      '| %20f | %20f | %22f |' \\\n",
    "      % (sum(correct == True) / len(predictions_234),\\\n",
    "         np.average(gamma_corr), np.average(gamma_incr)))\n"
   ]
  },
  {
   "cell_type": "markdown",
   "metadata": {
    "deletable": false,
    "nbgrader": {
     "checksum": "baf43434481c13d76ad51e3ba07e2bf5",
     "grade": true,
     "grade_id": "cell-329245c02df7850d",
     "locked": false,
     "points": 5,
     "schema_version": 1,
     "solution": true
    }
   },
   "source": [
    "The above images are sampled from the set of incorrectly classified numbers. Although some of them are easy distinguishable for the human eye, others are written poorly. In general it seems that the algorithm has problems with either very curvy or very straight lines. Also, it seems that the model has more difficulty in classifying the 2's and 3's correctly. This makes sense, since they can look fairly similar.\n",
    "\n",
    "When checking the average standard deviation of the gamma for the correctly identified images versus the incorrectly identified images, we can see that the latter is a bit lower. This indicates that gamma values for the incorrectly identified images are closer to each other, which can be interpreted to reflect some form of uncertainty by the model."
   ]
  },
  {
   "cell_type": "markdown",
   "metadata": {
    "deletable": false,
    "editable": false,
    "nbgrader": {
     "checksum": "640bc57a2d08c3becf534bb5e4b35971",
     "grade": false,
     "grade_id": "cell-67ce1222e8a7837b",
     "locked": true,
     "schema_version": 1,
     "solution": false
    }
   },
   "source": [
    "#### 1.4.3 Initialize with true values (5 points)\n",
    "Initialize the three classes with the true values of the parameters and see what happens. Report your results."
   ]
  },
  {
   "cell_type": "code",
   "execution_count": 13,
   "metadata": {
    "deletable": false,
    "nbgrader": {
     "checksum": "a48f788e286458ef0f776865a3bcd58b",
     "grade": true,
     "grade_id": "cell-aa5d6b9f941d985d",
     "locked": false,
     "points": 2,
     "schema_version": 1,
     "solution": true
    }
   },
   "outputs": [
    {
     "name": "stdout",
     "output_type": "stream",
     "text": [
      "| iteration | convergence mu | convergence pi |\n",
      "|         1 |      11.706524 |       0.028250 |\n",
      "|         2 |       4.202913 |       0.008807 |\n",
      "|         3 |       2.210389 |       0.002946 |\n",
      "|         4 |       1.114122 |       0.001566 |\n",
      "|         5 |       0.587959 |       0.001100 |\n",
      "|         6 |       0.318268 |       0.000688 |\n",
      "|         7 |       0.175605 |       0.000428 |\n",
      "|         8 |       0.095069 |       0.000254 |\n",
      "|         9 |       0.052947 |       0.000164 |\n",
      "|        10 |       0.030374 |       0.000109 |\n",
      "|        11 |       0.017741 |       0.000071 |\n",
      "|        12 |       0.010524 |       0.000046 |\n",
      "|        13 |       0.006329 |       0.000030 |\n",
      "|        14 |       0.003849 |       0.000019 |\n",
      "|        15 |       0.002364 |       0.000012 |\n",
      "|        16 |       0.001461 |       0.000008 |\n",
      "|        17 |       0.000910 |       0.000005 |\n",
      "|        18 |       0.000570 |       0.000003 |\n",
      "|        19 |       0.000358 |       0.000002 |\n",
      "|        20 |       0.000226 |       0.000001 |\n",
      "|        21 |       0.000143 |       0.000001 |\n"
     ]
    },
    {
     "data": {
      "image/png": "[encoded data removed]",
      "text/plain": [
       "<Figure size 432x288 with 3 Axes>"
      ]
     },
     "metadata": {
      "needs_background": "light"
     },
     "output_type": "display_data"
    }
   ],
   "source": [
    "pi_init = np.array([len(bin_digit_2)/len(bin_train_data_234),\n",
    "                    len(bin_digit_3)/len(bin_train_data_234),\n",
    "                    len(bin_digit_4)/len(bin_train_data_234)])\n",
    "\n",
    "mu_init = np.array([np.mean(bin_digit_2, axis=0),\n",
    "                    np.mean(bin_digit_3, axis=0),\n",
    "                    np.mean(bin_digit_4, axis=0)])\n",
    "\n",
    "K = 3\n",
    "gamma_init, mu_init, _, _ = EM(bin_train_data_234, K, max_iter, mu=mu_init, pi=pi_init)\n",
    "plot_digits(mu_init, K)"
   ]
  },
  {
   "cell_type": "markdown",
   "metadata": {
    "deletable": false,
    "nbgrader": {
     "checksum": "1dc4adf3081f3bec93f94c3b12b87db9",
     "grade": true,
     "grade_id": "cell-981e44f35a3764b0",
     "locked": false,
     "points": 3,
     "schema_version": 1,
     "solution": true
    }
   },
   "source": [
    "The first thing that can be observed, is the fact that the convergence is much faster in terms of iterations (21 vs 56 for the uninitialized situation). Furthermore, now we can control to which number each mean converges (in this case we used the natural order 2, 3, 4)."
   ]
  },
  {
   "cell_type": "markdown",
   "metadata": {
    "deletable": false,
    "editable": false,
    "nbgrader": {
     "checksum": "bd613f41e5d2b7d22b0d5b1e7644a48a",
     "grade": false,
     "grade_id": "cell-19bfd7cf4017ed84",
     "locked": true,
     "schema_version": 1,
     "solution": false
    }
   },
   "source": [
    "## Part 2: Variational Auto-Encoder\n",
    "\n",
    "A Variational Auto-Encoder (VAE) is a probabilistic model $p(\\bx, \\bz)$ over observed variables $\\bx$ and latent variables and/or parameters $\\bz$. Here we distinguish the decoder part, $p(\\bx | \\bz) p(\\bz)$ and an encoder part $p(\\bz | \\bx)$ that are both specified with a neural network. A lower bound on the log marginal likelihood $\\log p(\\bx)$ can be obtained by approximately inferring the latent variables z from the observed data x using an encoder distribution $q(\\bz| \\bx)$ that is also specified as a neural network. This lower bound is then optimized to fit the model to the data. \n",
    "\n",
    "The model was introduced by Diederik Kingma (during his PhD at the UVA) and Max Welling in 2013, https://arxiv.org/abs/1312.6114. \n",
    "\n",
    "Since it is such an important model there are plenty of well written tutorials that should help you with the assignment. E.g: https://jaan.io/what-is-variational-autoencoder-vae-tutorial/.\n",
    "\n",
    "In the following, we will make heavily use of the torch module, https://pytorch.org/docs/stable/index.html. Most of the time replacing `np.` with `torch.` will do the trick, e.g. `np.sum` becomes `torch.sum` and `np.log` becomes `torch.log`. In addition, we will use `torch.FloatTensor()` as an equivalent to `np.array()`. In order to train our VAE efficiently we will make use of batching. The number of data points in a batch will become the first dimension of our data tensor, e.g. A batch of 128 MNIST images has the dimensions [128, 1, 28, 28]. To check check the dimensions of a tensor you can call `.size()`."
   ]
  },
  {
   "cell_type": "markdown",
   "metadata": {
    "deletable": false,
    "editable": false,
    "nbgrader": {
     "checksum": "92bd337f41c3f94777f47376c7149ca7",
     "grade": false,
     "grade_id": "cell-bcbe35b20c1007d3",
     "locked": true,
     "schema_version": 1,
     "solution": false
    }
   },
   "source": [
    "### 2.1 Loss function\n",
    "The objective function (variational lower bound), that we will use to train the VAE, consists of two terms: a log Bernoulli loss (reconstruction loss) and a Kullback–Leibler divergence. We implement the two terms separately and combine them in the end.\n",
    "As seen in Part 1: Expectation Maximization, we can use a multivariate Bernoulli distribution to model the likelihood $p(\\bx | \\bz)$ of black and white images. Formally, the variational lower bound is maximized but in PyTorch we are always minimizing therefore we need to calculate the negative log Bernoulli loss and Kullback–Leibler divergence."
   ]
  },
  {
   "cell_type": "markdown",
   "metadata": {
    "deletable": false,
    "editable": false,
    "nbgrader": {
     "checksum": "3fb5f70b132e1233983ef89d19998374",
     "grade": false,
     "grade_id": "cell-389d81024af846e5",
     "locked": true,
     "schema_version": 1,
     "solution": false
    }
   },
   "source": [
    "### 2.1.1 Negative Log Bernoulli loss (5 points)\n",
    "The negative log Bernoulli loss is defined as,\n",
    "\n",
    "\\begin{align}\n",
    "loss = - (\\sum_i^D \\bx_i \\log \\hat{\\bx_i} + (1 − \\bx_i) \\log(1 − \\hat{\\bx_i})).\n",
    "\\end{align}\n",
    "\n",
    "Write a function `log_bernoulli_loss` that takes a D dimensional vector `x`, its reconstruction `x_hat` and returns the negative log Bernoulli loss. Make sure that your function works for batches of arbitrary size."
   ]
  },
  {
   "cell_type": "code",
   "execution_count": 14,
   "metadata": {
    "deletable": false,
    "nbgrader": {
     "checksum": "952435ca03f47ab67a7e88b8306fc9a0",
     "grade": false,
     "grade_id": "cell-1d504606d6f99145",
     "locked": false,
     "schema_version": 1,
     "solution": true
    }
   },
   "outputs": [],
   "source": [
    "def log_bernoulli_loss(x_hat, x):\n",
    "\n",
    "    loss = torch.zeros(x.size()[1])\n",
    "    for i in range(x.size()[0]):\n",
    "        loss -= x[i] * torch.log(x_hat[i]) + (1 - x[i]) * torch.log(1 - x_hat[i])\n",
    "                    \n",
    "    return torch.sum(loss)\n"
   ]
  },
  {
   "cell_type": "code",
   "execution_count": 15,
   "metadata": {
    "deletable": false,
    "editable": false,
    "nbgrader": {
     "checksum": "bd2a490aa694507bd032e86d77fc0087",
     "grade": true,
     "grade_id": "cell-9666dad0b2a9f483",
     "locked": true,
     "points": 5,
     "schema_version": 1,
     "solution": false
    }
   },
   "outputs": [],
   "source": [
    "### Test test test\n",
    "x_test = torch.FloatTensor([[0.1, 0.2, 0.3, 0.4], [0.5, 0.6, 0.7, 0.8], [0.9, 0.9, 0.9, 0.9]])\n",
    "x_hat_test = torch.FloatTensor([[0.11, 0.22, 0.33, 0.44], [0.55, 0.66, 0.77, 0.88], [0.99, 0.99, 0.99, 0.99]])\n",
    "\n",
    "assert log_bernoulli_loss(x_hat_test, x_test) > 0.0\n",
    "assert log_bernoulli_loss(x_hat_test, x_test) < 10.0\n"
   ]
  },
  {
   "cell_type": "markdown",
   "metadata": {
    "deletable": false,
    "editable": false,
    "nbgrader": {
     "checksum": "6b75b7a531ecc87bce57925c4da464ee",
     "grade": false,
     "grade_id": "cell-b3a7c02dee7aa505",
     "locked": true,
     "schema_version": 1,
     "solution": false
    }
   },
   "source": [
    "### 2.1.2 Negative Kullback–Leibler divergence (10 Points)\n",
    "The variational lower bound (the objective to be maximized) contains a KL term $D_{KL}(q(\\bz)||p(\\bz))$ that can often be calculated analytically. In the VAE we assume $q = N(\\bz, \\mu, \\sigma^2I)$ and $p = N(\\bz, 0, I)$. Solve analytically!"
   ]
  },
  {
   "cell_type": "markdown",
   "metadata": {
    "deletable": false,
    "nbgrader": {
     "checksum": "d01a7e7fe2dcf5f1c5fb955b85c8a04a",
     "grade": true,
     "grade_id": "cell-4cab10fd1a636858",
     "locked": false,
     "points": 5,
     "schema_version": 1,
     "solution": true
    }
   },
   "source": [
    "\\begin{align*}\n",
    "    q(z) = & N (z, \\mu, \\sigma^2 I) \\\\\n",
    "    p(z) = & N (z, 0, I) \\\\\n",
    "    D_{KL}(q(x)||p(z)) = & \\int q(z) \\log \\bigg( \\frac{p(z)}{q(z)} \\bigg) dz \\\\\n",
    "    = & \\int q(z) \\log \\Bigg( \\frac{(2 \\pi)^{-\\frac{k}{2}} \\det (I)^{-\\frac{1}{2}} \\exp \\big\\{ -\\frac{1}{2} z^T I^{-1} z \\big\\}}{(2 \\pi)^{-\\frac{k}{2}} \\det (\\sigma^2 I)^{-\\frac{1}{2}} \\exp \\big\\{ -\\frac{1}{2} (z - \\mu)^T \\sigma^2 I^{-1} (z - \\mu) \\big\\}} \\Bigg) dz \\\\\n",
    "    = & \\int q(z) \\Bigg( \\log \\big( \\frac{\\det (I)^{-\\frac{1}{2}}}{\\det (\\sigma^2 I)^{-\\frac{1}{2}}} \\big) - \\frac{1}{2} z^T I^{-1} z + \\frac{1}{2} (z - \\mu)^T \\sigma^2 I^{-1} (z - \\mu) \\Bigg) dz \\\\\n",
    "    = & -\\frac{1}{2} \\int q(z) \\log \\big(\\frac{\\det (I)}{\\det (\\sigma^2 I)} \\big) dz -\\frac{1}{2} \\int q(z) z^T I^{-1} z dz + \\frac{1}{2} \\int q(z) (z - \\mu)^T \\sigma^2 I^{-1} (z - \\mu) dz \\\\\n",
    "    = & -\\frac{1}{2} \\log \\big(\\frac{\\det (I)}{\\det (\\sigma^2 I)} \\big) -\\frac{1}{2} \\mathbb{E} \\lbrack z^T I^{-1} z \\rbrack + \\frac{1}{2} \\mathbb{E} \\lbrack (z - \\mu)^T \\sigma^2 I^{-1} (z - \\mu) \\rbrack \\\\\n",
    "    = & \\frac{1}{2} \\Bigg( - \\log \\big(\\frac{\\det (I)}{\\det (\\sigma^2 I)} \\big) - \\mathbb{E} \\lbrack z^T I^{-1} z \\rbrack + \\mathbb{E} \\lbrack (z - \\mu)^T \\sigma^2 I^{-1} (z - \\mu) \\rbrack \\Bigg)\\\\\n",
    "    = & \\frac{1}{2} \\Bigg( - \\log \\big(\\frac{\\det (I)}{\\det (\\sigma^2 I)} \\big) - Tr(I) - 0 + Tr(\\sigma^2 I) + (\\mu - z)^T \\sigma^2 I^{-1} (\\mu - z) \\Bigg)\\\\\n",
    "    = & \\frac{1}{2}\\left( -\\log\\left(\\frac{\\det(I)}{\\det(diag(\\sigma_1^2, ..., \\sigma_J^2))}\\right) -J + Tr(I^{-1}diag(\\sigma_1^2,...,\\sigma_J^2)) + (\\mu-0)^T \\sigma^2 I^{-1}(\\mu-0) \\right) \\\\\n",
    "    = & \\frac{1}{2} \\left( \\mu^T\\mu - J - \\left(\\sum_{i=1}^J \\log(\\sigma_i^2) \\right) \\left(\\sum_{i=1}^J \\sigma_j^2\\right) \\right)\n",
    "\\end{align*}"
   ]
  },
  {
   "cell_type": "markdown",
   "metadata": {
    "deletable": false,
    "editable": false,
    "nbgrader": {
     "checksum": "328115c94a66e8aba0a62896e647c3ba",
     "grade": false,
     "grade_id": "cell-c49899cbf2a49362",
     "locked": true,
     "schema_version": 1,
     "solution": false
    }
   },
   "source": [
    "Write a function `KL_loss` that takes two J dimensional vectors `mu` and `logvar` and returns the negative Kullback–Leibler divergence. Where `logvar` is $\\log(\\sigma^2)$. Make sure that your function works for batches of arbitrary size."
   ]
  },
  {
   "cell_type": "code",
   "execution_count": 16,
   "metadata": {
    "deletable": false,
    "nbgrader": {
     "checksum": "33b14b79372dd0235d67bb66921cd3e0",
     "grade": false,
     "grade_id": "cell-125b41878005206b",
     "locked": false,
     "schema_version": 1,
     "solution": true
    }
   },
   "outputs": [],
   "source": [
    "def KL_loss(mu, logvar):\n",
    "    \n",
    "    loss = np.sum([(1 / 2) * (torch.dot(mu[i],mu[i]) - len(mu[0]) \n",
    "                           - torch.sum(logvar[i])\n",
    "                           + torch.sum(torch.exp(logvar[i])))\n",
    "                   for i in range(mu.size()[0])])\n",
    "\n",
    "    return loss"
   ]
  },
  {
   "cell_type": "code",
   "execution_count": 17,
   "metadata": {
    "deletable": false,
    "editable": false,
    "nbgrader": {
     "checksum": "cf72e196d2b60827e8e940681ac50a07",
     "grade": true,
     "grade_id": "cell-ba714bbe270a3f39",
     "locked": true,
     "points": 5,
     "schema_version": 1,
     "solution": false
    }
   },
   "outputs": [],
   "source": [
    "### Test test test\n",
    "mu_test = torch.FloatTensor([[0.1, 0.2], [0.3, 0.4], [0.5, 0.6]])\n",
    "logvar_test = torch.FloatTensor([[0.01, 0.02], [0.03, 0.04], [0.05, 0.06]])\n",
    "\n",
    "assert KL_loss(mu_test, logvar_test) > 0.0\n",
    "assert KL_loss(mu_test, logvar_test) < 10.0\n"
   ]
  },
  {
   "cell_type": "markdown",
   "metadata": {
    "deletable": false,
    "editable": false,
    "nbgrader": {
     "checksum": "65335a588baac26bc48dd6c4d275fdca",
     "grade": false,
     "grade_id": "cell-18cb3f8031edec23",
     "locked": true,
     "schema_version": 1,
     "solution": false
    }
   },
   "source": [
    "### 2.1.3 Putting the losses together (5 points)\n",
    "Write a function `loss_function` that takes a D dimensional vector `x`, its reconstruction `x_hat`, two J dimensional vectors `mu` and `logvar` and returns the final loss. Make sure that your function works for batches of arbitrary size."
   ]
  },
  {
   "cell_type": "code",
   "execution_count": 18,
   "metadata": {
    "deletable": false,
    "nbgrader": {
     "checksum": "f6ecb5b60b2c8d7b90070ed59320ee70",
     "grade": false,
     "grade_id": "cell-d2d18781683f1302",
     "locked": false,
     "schema_version": 1,
     "solution": true
    }
   },
   "outputs": [],
   "source": [
    "def loss_function(x_hat, x, mu, logvar):\n",
    "        \n",
    "    return (log_bernoulli_loss(x_hat,x) + KL_loss(mu, logvar))\n"
   ]
  },
  {
   "cell_type": "code",
   "execution_count": 19,
   "metadata": {
    "deletable": false,
    "editable": false,
    "nbgrader": {
     "checksum": "816e9508408bfcb2c7332b508d505081",
     "grade": true,
     "grade_id": "cell-57747988d29bbb5d",
     "locked": true,
     "points": 5,
     "schema_version": 1,
     "solution": false
    }
   },
   "outputs": [],
   "source": [
    "x_test = torch.FloatTensor([[0.1, 0.2, 0.3], [0.4, 0.5, 0.6], [0.7, 0.8, 0.9]])\n",
    "x_hat_test = torch.FloatTensor([[0.11, 0.22, 0.33], [0.44, 0.55, 0.66], [0.77, 0.88, 0.99]])\n",
    "mu_test = torch.FloatTensor([[0.1, 0.2], [0.3, 0.4], [0.5, 0.6]])\n",
    "logvar_test = torch.FloatTensor([[0.01, 0.02], [0.03, 0.04], [0.05, 0.06]])\n",
    "\n",
    "assert loss_function(x_hat_test, x_test, mu_test, logvar_test) > 0.0\n",
    "assert loss_function(x_hat_test, x_test, mu_test, logvar_test) < 10.0\n"
   ]
  },
  {
   "cell_type": "markdown",
   "metadata": {
    "deletable": false,
    "editable": false,
    "nbgrader": {
     "checksum": "4506e06ed44a0535140582277a528ba4",
     "grade": false,
     "grade_id": "cell-9e3ba708967fe918",
     "locked": true,
     "schema_version": 1,
     "solution": false
    }
   },
   "source": [
    "### 2.2 The model\n",
    "Below you see a data structure for the VAE. The modell itself consists of two main parts the encoder (images $\\bx$ to latent variables $\\bz$) and the decoder (latent variables $\\bz$ to images $\\bx$). The encoder is using 3 fully-connected layers, whereas the decoder is using fully-connected layers. Right now the data structure is quite empty, step by step will update its functionality. For test purposes we will initialize a VAE for you. After the data structure is completed you will do the hyperparameter search.\n"
   ]
  },
  {
   "cell_type": "code",
   "execution_count": 20,
   "metadata": {
    "deletable": false,
    "editable": false,
    "nbgrader": {
     "checksum": "31eccf2f6600764e28eb4bc6c5634e49",
     "grade": false,
     "grade_id": "cell-e7d9dafee18f28a1",
     "locked": true,
     "schema_version": 1,
     "solution": false
    }
   },
   "outputs": [],
   "source": [
    "from torch import nn\n",
    "from torch.nn import functional as F \n",
    "\n",
    "class VAE(nn.Module):\n",
    "    def __init__(self, fc1_dims, fc21_dims, fc22_dims, fc3_dims, fc4_dims):\n",
    "        super(VAE, self).__init__()\n",
    "\n",
    "        self.fc1 = nn.Linear(*fc1_dims)\n",
    "        self.fc21 = nn.Linear(*fc21_dims)\n",
    "        self.fc22 = nn.Linear(*fc22_dims)\n",
    "        self.fc3 = nn.Linear(*fc3_dims)\n",
    "        self.fc4 = nn.Linear(*fc4_dims)\n",
    "\n",
    "    def encode(self, x):\n",
    "        # To be implemented\n",
    "        raise Exception('Method not implemented')\n",
    "\n",
    "    def reparameterize(self, mu, logvar):\n",
    "        # To be implemented\n",
    "        raise Exception('Method not implemented')\n",
    "\n",
    "    def decode(self, z):\n",
    "        # To be implemented\n",
    "        raise Exception('Method not implemented')\n",
    "\n",
    "    def forward(self, x):\n",
    "        # To be implemented\n",
    "        raise Exception('Method not implemented')\n",
    "\n",
    "VAE_test = VAE(fc1_dims=(784, 4), fc21_dims=(4, 2), fc22_dims=(4, 2), fc3_dims=(2, 4), fc4_dims=(4, 784))\n"
   ]
  },
  {
   "cell_type": "markdown",
   "metadata": {
    "deletable": false,
    "editable": false,
    "nbgrader": {
     "checksum": "1a2243397998b4f55c25dfd734f3e7e0",
     "grade": false,
     "grade_id": "cell-c4f9e841b8972a43",
     "locked": true,
     "schema_version": 1,
     "solution": false
    }
   },
   "source": [
    "### 2.3 Encoding (10 points)\n",
    "Write a function `encode` that gets a vector `x` with 784 elements (flattened MNIST image) and returns `mu` and `logvar`. Your function should use three fully-connected layers (`self.fc1()`, `self.fc21()`, `self.fc22()`). First, you should use `self.fc1()` to embed `x`. Second, you should use `self.fc21()` and `self.fc22()` on the embedding of `x` to compute `mu` and `logvar` respectively. PyTorch comes with a variety of activation functions, the most common calls are `F.relu()`, `F.sigmoid()`, `F.tanh()`. Make sure that your function works for batches of arbitrary size.  "
   ]
  },
  {
   "cell_type": "code",
   "execution_count": 21,
   "metadata": {
    "deletable": false,
    "nbgrader": {
     "checksum": "628bcd88c611cf01e70f77854600199b",
     "grade": false,
     "grade_id": "cell-93cb75b98ae76569",
     "locked": false,
     "schema_version": 1,
     "solution": true
    }
   },
   "outputs": [],
   "source": [
    "def encode(self, x):\n",
    "    \n",
    "    out = torch.sigmoid(self.fc1(x))\n",
    "    \n",
    "    return self.fc21(out), self.fc22(out)\n"
   ]
  },
  {
   "cell_type": "code",
   "execution_count": 22,
   "metadata": {
    "deletable": false,
    "editable": false,
    "nbgrader": {
     "checksum": "370d930fa9f10f1d3a451f3805c04d88",
     "grade": true,
     "grade_id": "cell-9648960b73337a70",
     "locked": true,
     "points": 10,
     "schema_version": 1,
     "solution": false
    }
   },
   "outputs": [],
   "source": [
    "### Test, test, test\n",
    "VAE.encode = encode\n",
    "\n",
    "x_test = torch.ones((5,784))\n",
    "mu_test, logvar_test = VAE_test.encode(x_test)\n",
    "\n",
    "assert np.allclose(mu_test.size(), [5, 2])\n",
    "assert np.allclose(logvar_test.size(), [5, 2])\n"
   ]
  },
  {
   "cell_type": "markdown",
   "metadata": {
    "deletable": false,
    "editable": false,
    "nbgrader": {
     "checksum": "6f597cc2b5ef941af282d7162297f865",
     "grade": false,
     "grade_id": "cell-581b4ed1996be868",
     "locked": true,
     "schema_version": 1,
     "solution": false
    }
   },
   "source": [
    "### 2.4 Reparameterization (10 points)\n",
    "One of the major question that the VAE is answering, is 'how to take derivatives with respect to the parameters of a stochastic variable?', i.e. if we are given $\\bz$ that is drawn from a distribution $q(\\bz|\\bx)$, and we want to take derivatives. This step is necessary to be able to use gradient-based optimization algorithms like SGD.\n",
    "For some distributions, it is possible to reparameterize samples in a clever way, such that the stochasticity is independent of the parameters. We want our samples to deterministically depend on the parameters of the distribution. For example, in a normally-distributed variable with mean $\\mu$ and standard deviation $\\sigma$, we can sample from it like this:\n",
    "\n",
    "\\begin{align}\n",
    "\\bz = \\mu + \\sigma \\odot \\epsilon,\n",
    "\\end{align}\n",
    "\n",
    "where $\\odot$ is the element-wise multiplication and $\\epsilon$ is sampled from $N(0, I)$.\n",
    "\n",
    "\n",
    "Write a function `reparameterize` that takes two J dimensional vectors `mu` and `logvar`. It should return $\\bz = \\mu + \\sigma \\odot \\epsilon$.\n"
   ]
  },
  {
   "cell_type": "code",
   "execution_count": 23,
   "metadata": {
    "deletable": false,
    "nbgrader": {
     "checksum": "6331cb5dd23aaacbcf1a52cfecb1afaa",
     "grade": false,
     "grade_id": "cell-679aea8b2adf7ec4",
     "locked": false,
     "schema_version": 1,
     "solution": true
    }
   },
   "outputs": [],
   "source": [
    "def reparameterize(self, mu, logvar):\n",
    "    \n",
    "    return mu + logvar * np.random.normal(0, 1)\n"
   ]
  },
  {
   "cell_type": "code",
   "execution_count": 24,
   "metadata": {
    "deletable": false,
    "editable": false,
    "nbgrader": {
     "checksum": "38d4e047717ab334b262c8c177f0a420",
     "grade": true,
     "grade_id": "cell-fdd7b27a3d17f84e",
     "locked": true,
     "points": 10,
     "schema_version": 1,
     "solution": false
    }
   },
   "outputs": [],
   "source": [
    "### Test, test, test\n",
    "VAE.reparameterize = reparameterize\n",
    "VAE_test.train()\n",
    "\n",
    "mu_test = torch.FloatTensor([[0.1, 0.2], [0.3, 0.4], [0.5, 0.6]])\n",
    "logvar_test = torch.FloatTensor([[0.01, 0.02], [0.03, 0.04], [0.05, 0.06]])\n",
    "\n",
    "z_test = VAE_test.reparameterize(mu_test, logvar_test)\n",
    "\n",
    "assert np.allclose(z_test.size(), [3, 2])\n",
    "assert z_test[0][0] < 5.0\n",
    "assert z_test[0][0] > -5.0\n"
   ]
  },
  {
   "cell_type": "markdown",
   "metadata": {
    "deletable": false,
    "editable": false,
    "nbgrader": {
     "checksum": "9241ab0eaf8366c37ad57072ce66f095",
     "grade": false,
     "grade_id": "cell-0be851f9f7f0a93e",
     "locked": true,
     "schema_version": 1,
     "solution": false
    }
   },
   "source": [
    "### 2.5 Decoding (10 points)\n",
    "Write a function `decode` that gets a vector `z` with J elements and returns a vector `x_hat` with 784 elements (flattened MNIST image). Your function should use two fully-connected layers (`self.fc3()`, `self.fc4()`). PyTorch comes with a variety of activation functions, the most common calls are `F.relu()`, `F.sigmoid()`, `F.tanh()`. Make sure that your function works for batches of arbitrary size."
   ]
  },
  {
   "cell_type": "code",
   "execution_count": 25,
   "metadata": {
    "deletable": false,
    "nbgrader": {
     "checksum": "e8e833cfd7c54a9b67a38056d5d6cab8",
     "grade": false,
     "grade_id": "cell-bf92bb3878275a41",
     "locked": false,
     "schema_version": 1,
     "solution": true
    }
   },
   "outputs": [],
   "source": [
    "def decode(self, z):\n",
    "    \n",
    "    out = torch.relu(self.fc3(z))\n",
    "    \n",
    "    return torch.sigmoid(self.fc4(out))\n"
   ]
  },
  {
   "cell_type": "code",
   "execution_count": 26,
   "metadata": {
    "deletable": false,
    "editable": false,
    "nbgrader": {
     "checksum": "7732293fd7d971fcf255496e8c68638d",
     "grade": true,
     "grade_id": "cell-4abb91cb9e80af5d",
     "locked": true,
     "points": 10,
     "schema_version": 1,
     "solution": false
    }
   },
   "outputs": [],
   "source": [
    "# test test test\n",
    "VAE.decode = decode\n",
    "\n",
    "z_test = torch.ones((5,2))\n",
    "x_hat_test = VAE_test.decode(z_test)\n",
    "\n",
    "assert np.allclose(x_hat_test.size(), [5, 784])\n",
    "assert (x_hat_test <= 1).all()\n",
    "assert (x_hat_test >= 0).all()\n"
   ]
  },
  {
   "cell_type": "markdown",
   "metadata": {
    "deletable": false,
    "editable": false,
    "nbgrader": {
     "checksum": "e2e113d1f45398b2a1399c336526e755",
     "grade": false,
     "grade_id": "cell-97511fbc4f5b469b",
     "locked": true,
     "schema_version": 1,
     "solution": false
    }
   },
   "source": [
    "### 2.6 Forward pass (10)\n",
    "To complete the data structure you have to define a forward pass through the VAE. A single forward pass consists of the encoding of an MNIST image $\\bx$ into latent space $\\bz$, the reparameterization of $\\bz$ and the decoding of $\\bz$ into an image $\\bx$.\n",
    "\n",
    "Write a function `forward` that gets a a vector `x` with 784 elements (flattened MNIST image) and returns a vector `x_hat` with 784 elements (flattened MNIST image), `mu` and `logvar`."
   ]
  },
  {
   "cell_type": "code",
   "execution_count": 27,
   "metadata": {
    "deletable": false,
    "nbgrader": {
     "checksum": "8b7433c4631dd01c07a5fe287e55ae13",
     "grade": false,
     "grade_id": "cell-26bb463b9f98ebd5",
     "locked": false,
     "schema_version": 1,
     "solution": true
    }
   },
   "outputs": [],
   "source": [
    "def forward(self, x):\n",
    "\n",
    "    mu, logvar = self.encode(x.view(-1, 784))\n",
    "    x_hat = self.decode(self.reparameterize(mu, logvar))\n",
    "    \n",
    "    return x_hat, mu, logvar\n"
   ]
  },
  {
   "cell_type": "code",
   "execution_count": 28,
   "metadata": {
    "deletable": false,
    "editable": false,
    "nbgrader": {
     "checksum": "8e7e495f40465c162512e9873c360b25",
     "grade": true,
     "grade_id": "cell-347e5fba3d02754b",
     "locked": true,
     "points": 10,
     "schema_version": 1,
     "solution": false
    }
   },
   "outputs": [],
   "source": [
    "# test test test \n",
    "VAE.forward = forward\n",
    "\n",
    "x_test = torch.ones((5,784))\n",
    "x_hat_test, mu_test, logvar_test = VAE_test.forward(x_test)\n",
    "\n",
    "assert np.allclose(x_hat_test.size(), [5, 784])\n",
    "assert np.allclose(mu_test.size(), [5, 2])\n",
    "assert np.allclose(logvar_test.size(), [5, 2])\n"
   ]
  },
  {
   "cell_type": "markdown",
   "metadata": {
    "deletable": false,
    "editable": false,
    "nbgrader": {
     "checksum": "a114a6fd781fb949b887e6a028e07946",
     "grade": false,
     "grade_id": "cell-62c89e4d3b253671",
     "locked": true,
     "schema_version": 1,
     "solution": false
    }
   },
   "source": [
    "### 2.7 Training (15)\n",
    "We will now train the VAE using an optimizer called Adam, https://arxiv.org/abs/1412.6980. The code to train a model in PyTorch is given below."
   ]
  },
  {
   "cell_type": "code",
   "execution_count": 29,
   "metadata": {
    "deletable": false,
    "editable": false,
    "nbgrader": {
     "checksum": "f3b6bb965fb48229c63cacda48baea65",
     "grade": false,
     "grade_id": "cell-be75f61b09f3b9b6",
     "locked": true,
     "schema_version": 1,
     "solution": false
    }
   },
   "outputs": [],
   "source": [
    "from torch.autograd import Variable\n",
    "\n",
    "def train(epoch, train_loader, model, optimizer):\n",
    "    model.train()\n",
    "    train_loss = 0\n",
    "    for batch_idx, (data, _) in enumerate(train_loader):\n",
    "        data = Variable(data)\n",
    "        optimizer.zero_grad()\n",
    "        recon_batch, mu, logvar = model(data)\n",
    "        loss = loss_function(recon_batch, data.view(-1, 784), mu, logvar)\n",
    "        loss.backward()\n",
    "        train_loss += loss.data\n",
    "        optimizer.step()\n",
    "        if batch_idx % 100 == 0:\n",
    "            print('Train Epoch: {} [{}/{} ({:.0f}%)]\\tLoss: {:.6f}'.format(\n",
    "                epoch, batch_idx * len(data), len(train_loader.dataset),\n",
    "                100. * batch_idx / len(train_loader),\n",
    "                loss.data / len(data)))\n",
    "\n",
    "    print('====> Epoch: {} Average loss: {:.4f}'.format(\n",
    "          epoch, train_loss / len(train_loader.dataset)))\n"
   ]
  },
  {
   "cell_type": "markdown",
   "metadata": {
    "deletable": false,
    "editable": false,
    "nbgrader": {
     "checksum": "48ca730dbef06a668f4dfdb24888f265",
     "grade": false,
     "grade_id": "cell-da1b063b7de850b9",
     "locked": true,
     "schema_version": 1,
     "solution": false
    }
   },
   "source": [
    "Let's train. You have to choose the hyperparameters. Make sure your loss is going down in a reasonable amount of epochs (around 10)."
   ]
  },
  {
   "cell_type": "code",
   "execution_count": 30,
   "metadata": {
    "deletable": false,
    "nbgrader": {
     "checksum": "846430258fb80f50b161135448726520",
     "grade": false,
     "grade_id": "cell-d4d4408d397f6967",
     "locked": false,
     "schema_version": 1,
     "solution": true
    }
   },
   "outputs": [],
   "source": [
    "# Hyperparameters\n",
    "fc1_dims = (784, 50)\n",
    "fc21_dims = (50, 2)\n",
    "fc22_dims = (50, 2)\n",
    "fc3_dims = (2, 25)\n",
    "fc4_dims = (25, 784)\n",
    "lr = 0.002\n",
    "batch_size = 32\n",
    "epochs = 10\n"
   ]
  },
  {
   "cell_type": "code",
   "execution_count": 31,
   "metadata": {
    "deletable": false,
    "editable": false,
    "nbgrader": {
     "checksum": "b93390f399b743276bc25e67493344f2",
     "grade": true,
     "grade_id": "cell-ca352d8389c1809a",
     "locked": true,
     "points": 15,
     "schema_version": 1,
     "solution": false
    }
   },
   "outputs": [],
   "source": [
    "# This cell contains a hidden test, please don't delete it, thx"
   ]
  },
  {
   "cell_type": "markdown",
   "metadata": {
    "deletable": false,
    "editable": false,
    "nbgrader": {
     "checksum": "20719070ed85964de9722acc3456a515",
     "grade": false,
     "grade_id": "cell-5c77370db7cec9f2",
     "locked": true,
     "schema_version": 1,
     "solution": false
    }
   },
   "source": [
    "Run the box below to train the model using the hyperparameters you entered above."
   ]
  },
  {
   "cell_type": "code",
   "execution_count": 32,
   "metadata": {
    "deletable": false,
    "editable": false,
    "nbgrader": {
     "checksum": "38306be3638e85812bd5b2a052fcc0a4",
     "grade": false,
     "grade_id": "cell-5712d42de1068398",
     "locked": true,
     "schema_version": 1,
     "solution": false
    }
   },
   "outputs": [
    {
     "name": "stdout",
     "output_type": "stream",
     "text": [
      "Train Epoch: 1 [0/60000 (0%)]\tLoss: 546.905396\n",
      "Train Epoch: 1 [3200/60000 (5%)]\tLoss: 207.499268\n",
      "Train Epoch: 1 [6400/60000 (11%)]\tLoss: 211.209732\n",
      "Train Epoch: 1 [9600/60000 (16%)]\tLoss: 208.848434\n",
      "Train Epoch: 1 [12800/60000 (21%)]\tLoss: 200.023743\n",
      "Train Epoch: 1 [16000/60000 (27%)]\tLoss: 194.301483\n",
      "Train Epoch: 1 [19200/60000 (32%)]\tLoss: 183.693069\n",
      "Train Epoch: 1 [22400/60000 (37%)]\tLoss: 182.358780\n",
      "Train Epoch: 1 [25600/60000 (43%)]\tLoss: 171.122391\n",
      "Train Epoch: 1 [28800/60000 (48%)]\tLoss: 184.392838\n",
      "Train Epoch: 1 [32000/60000 (53%)]\tLoss: 155.362061\n",
      "Train Epoch: 1 [35200/60000 (59%)]\tLoss: 174.448288\n",
      "Train Epoch: 1 [38400/60000 (64%)]\tLoss: 175.305359\n",
      "Train Epoch: 1 [41600/60000 (69%)]\tLoss: 152.474335\n",
      "Train Epoch: 1 [44800/60000 (75%)]\tLoss: 175.425583\n",
      "Train Epoch: 1 [48000/60000 (80%)]\tLoss: 167.183578\n",
      "Train Epoch: 1 [51200/60000 (85%)]\tLoss: 178.689850\n",
      "Train Epoch: 1 [54400/60000 (91%)]\tLoss: 167.693649\n",
      "Train Epoch: 1 [57600/60000 (96%)]\tLoss: 172.202759\n",
      "====> Epoch: 1 Average loss: 189.6705\n",
      "Train Epoch: 2 [0/60000 (0%)]\tLoss: 162.939789\n",
      "Train Epoch: 2 [3200/60000 (5%)]\tLoss: 154.901245\n",
      "Train Epoch: 2 [6400/60000 (11%)]\tLoss: 167.911728\n",
      "Train Epoch: 2 [9600/60000 (16%)]\tLoss: 170.856659\n",
      "Train Epoch: 2 [12800/60000 (21%)]\tLoss: 170.756851\n",
      "Train Epoch: 2 [16000/60000 (27%)]\tLoss: 176.209732\n",
      "Train Epoch: 2 [19200/60000 (32%)]\tLoss: 174.517059\n",
      "Train Epoch: 2 [22400/60000 (37%)]\tLoss: 161.152832\n",
      "Train Epoch: 2 [25600/60000 (43%)]\tLoss: 164.669250\n",
      "Train Epoch: 2 [28800/60000 (48%)]\tLoss: 168.436493\n",
      "Train Epoch: 2 [32000/60000 (53%)]\tLoss: 151.601013\n",
      "Train Epoch: 2 [35200/60000 (59%)]\tLoss: 145.454514\n",
      "Train Epoch: 2 [38400/60000 (64%)]\tLoss: 161.087570\n",
      "Train Epoch: 2 [41600/60000 (69%)]\tLoss: 148.758072\n",
      "Train Epoch: 2 [44800/60000 (75%)]\tLoss: 166.188354\n",
      "Train Epoch: 2 [48000/60000 (80%)]\tLoss: 159.743362\n",
      "Train Epoch: 2 [51200/60000 (85%)]\tLoss: 144.875031\n",
      "Train Epoch: 2 [54400/60000 (91%)]\tLoss: 160.625000\n",
      "Train Epoch: 2 [57600/60000 (96%)]\tLoss: 159.813812\n",
      "====> Epoch: 2 Average loss: 164.1586\n",
      "Train Epoch: 3 [0/60000 (0%)]\tLoss: 162.213135\n",
      "Train Epoch: 3 [3200/60000 (5%)]\tLoss: 163.080978\n",
      "Train Epoch: 3 [6400/60000 (11%)]\tLoss: 169.295700\n",
      "Train Epoch: 3 [9600/60000 (16%)]\tLoss: 155.803528\n",
      "Train Epoch: 3 [12800/60000 (21%)]\tLoss: 160.089600\n",
      "Train Epoch: 3 [16000/60000 (27%)]\tLoss: 168.043961\n",
      "Train Epoch: 3 [19200/60000 (32%)]\tLoss: 152.228607\n",
      "Train Epoch: 3 [22400/60000 (37%)]\tLoss: 170.229660\n",
      "Train Epoch: 3 [25600/60000 (43%)]\tLoss: 168.060196\n",
      "Train Epoch: 3 [28800/60000 (48%)]\tLoss: 159.412933\n",
      "Train Epoch: 3 [32000/60000 (53%)]\tLoss: 158.555725\n",
      "Train Epoch: 3 [35200/60000 (59%)]\tLoss: 165.642593\n",
      "Train Epoch: 3 [38400/60000 (64%)]\tLoss: 164.159271\n",
      "Train Epoch: 3 [41600/60000 (69%)]\tLoss: 164.445801\n",
      "Train Epoch: 3 [44800/60000 (75%)]\tLoss: 168.413055\n",
      "Train Epoch: 3 [48000/60000 (80%)]\tLoss: 167.498123\n",
      "Train Epoch: 3 [51200/60000 (85%)]\tLoss: 150.074020\n",
      "Train Epoch: 3 [54400/60000 (91%)]\tLoss: 170.576660\n",
      "Train Epoch: 3 [57600/60000 (96%)]\tLoss: 159.493881\n",
      "====> Epoch: 3 Average loss: 160.3132\n",
      "Train Epoch: 4 [0/60000 (0%)]\tLoss: 153.742264\n",
      "Train Epoch: 4 [3200/60000 (5%)]\tLoss: 153.049805\n",
      "Train Epoch: 4 [6400/60000 (11%)]\tLoss: 169.477921\n",
      "Train Epoch: 4 [9600/60000 (16%)]\tLoss: 172.722397\n",
      "Train Epoch: 4 [12800/60000 (21%)]\tLoss: 144.149139\n",
      "Train Epoch: 4 [16000/60000 (27%)]\tLoss: 169.101578\n",
      "Train Epoch: 4 [19200/60000 (32%)]\tLoss: 154.414993\n",
      "Train Epoch: 4 [22400/60000 (37%)]\tLoss: 157.050507\n",
      "Train Epoch: 4 [25600/60000 (43%)]\tLoss: 161.425720\n",
      "Train Epoch: 4 [28800/60000 (48%)]\tLoss: 162.228760\n",
      "Train Epoch: 4 [32000/60000 (53%)]\tLoss: 153.964676\n",
      "Train Epoch: 4 [35200/60000 (59%)]\tLoss: 163.582870\n",
      "Train Epoch: 4 [38400/60000 (64%)]\tLoss: 146.846756\n",
      "Train Epoch: 4 [41600/60000 (69%)]\tLoss: 151.089355\n",
      "Train Epoch: 4 [44800/60000 (75%)]\tLoss: 166.848343\n",
      "Train Epoch: 4 [48000/60000 (80%)]\tLoss: 157.884872\n",
      "Train Epoch: 4 [51200/60000 (85%)]\tLoss: 166.605515\n",
      "Train Epoch: 4 [54400/60000 (91%)]\tLoss: 159.856720\n",
      "Train Epoch: 4 [57600/60000 (96%)]\tLoss: 168.926544\n",
      "====> Epoch: 4 Average loss: 158.2525\n",
      "Train Epoch: 5 [0/60000 (0%)]\tLoss: 151.714310\n",
      "Train Epoch: 5 [3200/60000 (5%)]\tLoss: 156.613144\n",
      "Train Epoch: 5 [6400/60000 (11%)]\tLoss: 151.625549\n",
      "Train Epoch: 5 [9600/60000 (16%)]\tLoss: 156.850708\n",
      "Train Epoch: 5 [12800/60000 (21%)]\tLoss: 148.529663\n",
      "Train Epoch: 5 [16000/60000 (27%)]\tLoss: 157.368881\n",
      "Train Epoch: 5 [19200/60000 (32%)]\tLoss: 166.773712\n",
      "Train Epoch: 5 [22400/60000 (37%)]\tLoss: 147.932678\n",
      "Train Epoch: 5 [25600/60000 (43%)]\tLoss: 167.568283\n",
      "Train Epoch: 5 [28800/60000 (48%)]\tLoss: 157.454681\n",
      "Train Epoch: 5 [32000/60000 (53%)]\tLoss: 165.564392\n",
      "Train Epoch: 5 [35200/60000 (59%)]\tLoss: 151.541946\n",
      "Train Epoch: 5 [38400/60000 (64%)]\tLoss: 153.705872\n",
      "Train Epoch: 5 [41600/60000 (69%)]\tLoss: 164.943298\n",
      "Train Epoch: 5 [44800/60000 (75%)]\tLoss: 166.685913\n",
      "Train Epoch: 5 [48000/60000 (80%)]\tLoss: 163.043259\n",
      "Train Epoch: 5 [51200/60000 (85%)]\tLoss: 163.484772\n",
      "Train Epoch: 5 [54400/60000 (91%)]\tLoss: 150.122009\n",
      "Train Epoch: 5 [57600/60000 (96%)]\tLoss: 168.132721\n",
      "====> Epoch: 5 Average loss: 157.1384\n",
      "Train Epoch: 6 [0/60000 (0%)]\tLoss: 162.436829\n",
      "Train Epoch: 6 [3200/60000 (5%)]\tLoss: 152.052292\n",
      "Train Epoch: 6 [6400/60000 (11%)]\tLoss: 149.510834\n",
      "Train Epoch: 6 [9600/60000 (16%)]\tLoss: 152.671692\n",
      "Train Epoch: 6 [12800/60000 (21%)]\tLoss: 156.961441\n",
      "Train Epoch: 6 [16000/60000 (27%)]\tLoss: 163.111252\n",
      "Train Epoch: 6 [19200/60000 (32%)]\tLoss: 143.028809\n",
      "Train Epoch: 6 [22400/60000 (37%)]\tLoss: 147.512802\n",
      "Train Epoch: 6 [25600/60000 (43%)]\tLoss: 146.631653\n",
      "Train Epoch: 6 [28800/60000 (48%)]\tLoss: 151.699921\n",
      "Train Epoch: 6 [32000/60000 (53%)]\tLoss: 154.640366\n",
      "Train Epoch: 6 [35200/60000 (59%)]\tLoss: 154.723892\n",
      "Train Epoch: 6 [38400/60000 (64%)]\tLoss: 197.718781\n",
      "Train Epoch: 6 [41600/60000 (69%)]\tLoss: 167.977081\n",
      "Train Epoch: 6 [44800/60000 (75%)]\tLoss: 137.516785\n",
      "Train Epoch: 6 [48000/60000 (80%)]\tLoss: 166.540604\n",
      "Train Epoch: 6 [51200/60000 (85%)]\tLoss: 153.249847\n",
      "Train Epoch: 6 [54400/60000 (91%)]\tLoss: 144.513275\n",
      "Train Epoch: 6 [57600/60000 (96%)]\tLoss: 149.861359\n",
      "====> Epoch: 6 Average loss: 156.0124\n",
      "Train Epoch: 7 [0/60000 (0%)]\tLoss: 157.233826\n",
      "Train Epoch: 7 [3200/60000 (5%)]\tLoss: 165.923508\n",
      "Train Epoch: 7 [6400/60000 (11%)]\tLoss: 153.685715\n",
      "Train Epoch: 7 [9600/60000 (16%)]\tLoss: 153.363510\n",
      "Train Epoch: 7 [12800/60000 (21%)]\tLoss: 143.338257\n",
      "Train Epoch: 7 [16000/60000 (27%)]\tLoss: 158.180557\n",
      "Train Epoch: 7 [19200/60000 (32%)]\tLoss: 156.790192\n",
      "Train Epoch: 7 [22400/60000 (37%)]\tLoss: 150.980865\n",
      "Train Epoch: 7 [25600/60000 (43%)]\tLoss: 160.208862\n",
      "Train Epoch: 7 [28800/60000 (48%)]\tLoss: 155.772308\n",
      "Train Epoch: 7 [32000/60000 (53%)]\tLoss: 142.866241\n",
      "Train Epoch: 7 [35200/60000 (59%)]\tLoss: 146.973648\n",
      "Train Epoch: 7 [38400/60000 (64%)]\tLoss: 164.196732\n",
      "Train Epoch: 7 [41600/60000 (69%)]\tLoss: 155.526199\n",
      "Train Epoch: 7 [44800/60000 (75%)]\tLoss: 152.579773\n",
      "Train Epoch: 7 [48000/60000 (80%)]\tLoss: 149.535904\n",
      "Train Epoch: 7 [51200/60000 (85%)]\tLoss: 156.964783\n",
      "Train Epoch: 7 [54400/60000 (91%)]\tLoss: 167.685928\n",
      "Train Epoch: 7 [57600/60000 (96%)]\tLoss: 154.776230\n",
      "====> Epoch: 7 Average loss: 154.7529\n",
      "Train Epoch: 8 [0/60000 (0%)]\tLoss: 180.949524\n",
      "Train Epoch: 8 [3200/60000 (5%)]\tLoss: 159.605789\n",
      "Train Epoch: 8 [6400/60000 (11%)]\tLoss: 156.161255\n",
      "Train Epoch: 8 [9600/60000 (16%)]\tLoss: 142.456284\n",
      "Train Epoch: 8 [12800/60000 (21%)]\tLoss: 150.519150\n",
      "Train Epoch: 8 [16000/60000 (27%)]\tLoss: 157.313583\n",
      "Train Epoch: 8 [19200/60000 (32%)]\tLoss: 144.457535\n",
      "Train Epoch: 8 [22400/60000 (37%)]\tLoss: 150.900177\n",
      "Train Epoch: 8 [25600/60000 (43%)]\tLoss: 144.611725\n",
      "Train Epoch: 8 [28800/60000 (48%)]\tLoss: 146.881622\n",
      "Train Epoch: 8 [32000/60000 (53%)]\tLoss: 164.132217\n",
      "Train Epoch: 8 [35200/60000 (59%)]\tLoss: 166.077499\n",
      "Train Epoch: 8 [38400/60000 (64%)]\tLoss: 145.085602\n",
      "Train Epoch: 8 [41600/60000 (69%)]\tLoss: 149.994492\n",
      "Train Epoch: 8 [44800/60000 (75%)]\tLoss: 141.505981\n",
      "Train Epoch: 8 [48000/60000 (80%)]\tLoss: 158.083725\n",
      "Train Epoch: 8 [51200/60000 (85%)]\tLoss: 156.762299\n",
      "Train Epoch: 8 [54400/60000 (91%)]\tLoss: 157.819046\n",
      "Train Epoch: 8 [57600/60000 (96%)]\tLoss: 147.717621\n",
      "====> Epoch: 8 Average loss: 153.9573\n",
      "Train Epoch: 9 [0/60000 (0%)]\tLoss: 149.573212\n",
      "Train Epoch: 9 [3200/60000 (5%)]\tLoss: 139.896317\n"
     ]
    },
    {
     "name": "stdout",
     "output_type": "stream",
     "text": [
      "Train Epoch: 9 [6400/60000 (11%)]\tLoss: 156.795090\n",
      "Train Epoch: 9 [9600/60000 (16%)]\tLoss: 142.219757\n",
      "Train Epoch: 9 [12800/60000 (21%)]\tLoss: 143.111725\n",
      "Train Epoch: 9 [16000/60000 (27%)]\tLoss: 157.441727\n",
      "Train Epoch: 9 [19200/60000 (32%)]\tLoss: 156.465622\n",
      "Train Epoch: 9 [22400/60000 (37%)]\tLoss: 152.539429\n",
      "Train Epoch: 9 [25600/60000 (43%)]\tLoss: 152.796738\n",
      "Train Epoch: 9 [28800/60000 (48%)]\tLoss: 137.109940\n",
      "Train Epoch: 9 [32000/60000 (53%)]\tLoss: 155.903656\n",
      "Train Epoch: 9 [35200/60000 (59%)]\tLoss: 142.887253\n",
      "Train Epoch: 9 [38400/60000 (64%)]\tLoss: 164.029221\n",
      "Train Epoch: 9 [41600/60000 (69%)]\tLoss: 146.516769\n",
      "Train Epoch: 9 [44800/60000 (75%)]\tLoss: 151.875992\n",
      "Train Epoch: 9 [48000/60000 (80%)]\tLoss: 142.967194\n",
      "Train Epoch: 9 [51200/60000 (85%)]\tLoss: 137.358643\n",
      "Train Epoch: 9 [54400/60000 (91%)]\tLoss: 159.005569\n",
      "Train Epoch: 9 [57600/60000 (96%)]\tLoss: 162.995926\n",
      "====> Epoch: 9 Average loss: 153.1518\n",
      "Train Epoch: 10 [0/60000 (0%)]\tLoss: 147.065811\n",
      "Train Epoch: 10 [3200/60000 (5%)]\tLoss: 162.554047\n",
      "Train Epoch: 10 [6400/60000 (11%)]\tLoss: 154.695007\n",
      "Train Epoch: 10 [9600/60000 (16%)]\tLoss: 156.705093\n",
      "Train Epoch: 10 [12800/60000 (21%)]\tLoss: 146.305420\n",
      "Train Epoch: 10 [16000/60000 (27%)]\tLoss: 162.022156\n",
      "Train Epoch: 10 [19200/60000 (32%)]\tLoss: 151.746994\n",
      "Train Epoch: 10 [22400/60000 (37%)]\tLoss: 160.107346\n",
      "Train Epoch: 10 [25600/60000 (43%)]\tLoss: 139.953262\n",
      "Train Epoch: 10 [28800/60000 (48%)]\tLoss: 156.242493\n",
      "Train Epoch: 10 [32000/60000 (53%)]\tLoss: 150.996399\n",
      "Train Epoch: 10 [35200/60000 (59%)]\tLoss: 155.476303\n",
      "Train Epoch: 10 [38400/60000 (64%)]\tLoss: 150.183411\n",
      "Train Epoch: 10 [41600/60000 (69%)]\tLoss: 160.001221\n",
      "Train Epoch: 10 [44800/60000 (75%)]\tLoss: 148.065353\n",
      "Train Epoch: 10 [48000/60000 (80%)]\tLoss: 147.954239\n",
      "Train Epoch: 10 [51200/60000 (85%)]\tLoss: 153.573120\n",
      "Train Epoch: 10 [54400/60000 (91%)]\tLoss: 136.233673\n",
      "Train Epoch: 10 [57600/60000 (96%)]\tLoss: 155.948959\n",
      "====> Epoch: 10 Average loss: 152.8451\n"
     ]
    }
   ],
   "source": [
    "from torchvision import datasets, transforms\n",
    "from torch import nn, optim\n",
    "\n",
    "# Load data\n",
    "train_data = datasets.MNIST('../data', train=True, download=True,\n",
    "                   transform=transforms.ToTensor())\n",
    "\n",
    "train_loader = torch.utils.data.DataLoader(train_data,\n",
    "                                           batch_size=batch_size, shuffle=True, **{})\n",
    "\n",
    "# Init model\n",
    "VAE_MNIST = VAE(fc1_dims=fc1_dims, fc21_dims=fc21_dims, fc22_dims=fc22_dims, fc3_dims=fc3_dims, fc4_dims=fc4_dims)\n",
    "\n",
    "# Init optimizer\n",
    "optimizer = optim.Adam(VAE_MNIST.parameters(), lr=lr)\n",
    "\n",
    "# Train\n",
    "for epoch in range(1, epochs + 1):\n",
    "    train(epoch, train_loader, VAE_MNIST, optimizer)\n"
   ]
  },
  {
   "cell_type": "markdown",
   "metadata": {
    "deletable": false,
    "editable": false,
    "nbgrader": {
     "checksum": "e2f8fcc9384e30cb154cf931f223898b",
     "grade": false,
     "grade_id": "cell-bd07c058c661b9c6",
     "locked": true,
     "schema_version": 1,
     "solution": false
    }
   },
   "source": [
    "Run the box below to check if the model you trained above is able to correctly reconstruct images."
   ]
  },
  {
   "cell_type": "code",
   "execution_count": 33,
   "metadata": {
    "deletable": false,
    "editable": false,
    "nbgrader": {
     "checksum": "80d198e03b1287741d761a12e38dcf73",
     "grade": false,
     "grade_id": "cell-df03d717307a6863",
     "locked": true,
     "schema_version": 1,
     "solution": false
    }
   },
   "outputs": [
    {
     "data": {
      "image/png": "[encoded data removed]",
      "text/plain": [
       "<Figure size 432x288 with 1 Axes>"
      ]
     },
     "metadata": {
      "needs_background": "light"
     },
     "output_type": "display_data"
    },
    {
     "data": {
      "image/png": "[encoded data removed]",
      "text/plain": [
       "<Figure size 432x288 with 1 Axes>"
      ]
     },
     "metadata": {
      "needs_background": "light"
     },
     "output_type": "display_data"
    },
    {
     "data": {
      "image/png": "[encoded data removed]",
      "text/plain": [
       "<Figure size 432x288 with 1 Axes>"
      ]
     },
     "metadata": {
      "needs_background": "light"
     },
     "output_type": "display_data"
    },
    {
     "data": {
      "image/png": "[encoded data removed]",
      "text/plain": [
       "<Figure size 432x288 with 1 Axes>"
      ]
     },
     "metadata": {
      "needs_background": "light"
     },
     "output_type": "display_data"
    }
   ],
   "source": [
    "### Let's check if the reconstructions make sense\n",
    "# Set model to test mode\n",
    "VAE_MNIST.eval()\n",
    "    \n",
    "# Reconstructed\n",
    "train_data_plot = datasets.MNIST('../data', train=True, download=True,\n",
    "                   transform=transforms.ToTensor())\n",
    "\n",
    "train_loader_plot = torch.utils.data.DataLoader(train_data_plot,\n",
    "                                           batch_size=1, shuffle=False, **{})\n",
    "\n",
    "for batch_idx, (data, _) in enumerate(train_loader_plot):\n",
    "    x_hat, mu, logvar = VAE_MNIST(data)\n",
    "    plt.imshow(x_hat.view(1,28,28).squeeze().data.numpy(), cmap='gray')\n",
    "    plt.title('%i' % train_data.train_labels[batch_idx])\n",
    "    plt.show()\n",
    "    if batch_idx == 3:\n",
    "        break\n"
   ]
  },
  {
   "cell_type": "markdown",
   "metadata": {
    "deletable": false,
    "editable": false,
    "nbgrader": {
     "checksum": "7f559122b150f5f1228d6b66b62f462c",
     "grade": false,
     "grade_id": "cell-76649d51fdf133dc",
     "locked": true,
     "schema_version": 1,
     "solution": false
    }
   },
   "source": [
    "### 2.8 Visualize latent space (20 points)\n",
    "Now, implement the auto-encoder now with a 2-dimensional latent space, and train again over the MNIST data. Make a visualization of the learned manifold by using a linearly spaced coordinate grid as input for the latent space, as seen in  https://arxiv.org/abs/1312.6114 Figure 4."
   ]
  },
  {
   "cell_type": "code",
   "execution_count": 34,
   "metadata": {
    "deletable": false,
    "nbgrader": {
     "checksum": "c879ffdb0d355349d7144a33d16ca93a",
     "grade": true,
     "grade_id": "cell-4a0af6d08d055bee",
     "locked": false,
     "points": 20,
     "schema_version": 1,
     "solution": true
    }
   },
   "outputs": [
    {
     "data": {
      "image/png": "[encoded data removed]",
      "text/plain": [
       "<Figure size 432x288 with 1 Axes>"
      ]
     },
     "metadata": {
      "needs_background": "light"
     },
     "output_type": "display_data"
    }
   ],
   "source": [
    "image = np.zeros((280, 280))\n",
    "for i, x in enumerate(np.linspace(-1, 1, 10)):\n",
    "    for j, y in enumerate(np.linspace(-1, 1, 10)):\n",
    "        output = VAE_MNIST.decode(torch.FloatTensor(np.array([[x, y],[x, y]])))\\\n",
    "                          .data.numpy()[0,:]\n",
    "        image[28*i:28*(i+1), 28*j:28*(j+1)] = output.reshape((28,28))\n",
    "\n",
    "plt.imshow(image.reshape(280, 280), cmap='gray')\n",
    "plt.show()"
   ]
  },
  {
   "cell_type": "markdown",
   "metadata": {
    "deletable": false,
    "editable": false,
    "nbgrader": {
     "checksum": "b9eb1684d646eea84a25638d184bfbda",
     "grade": false,
     "grade_id": "cell-dc5e1247a1e21009",
     "locked": true,
     "schema_version": 1,
     "solution": false
    }
   },
   "source": [
    "### 2.8 Amortized inference (10 points)\n",
    "What is amortized inference? Where in the code of Part 2 is it used? What is the benefit of using it?\n"
   ]
  },
  {
   "cell_type": "markdown",
   "metadata": {
    "deletable": false,
    "nbgrader": {
     "checksum": "364ed922da59070f319d0bdfb0e41d92",
     "grade": true,
     "grade_id": "cell-6f7808a9b0098dbf",
     "locked": false,
     "points": 10,
     "schema_version": 1,
     "solution": true
    }
   },
   "source": [
    "Instead of learning individual parameters for each observation, parameters of a neural network are optimized. This is done by introducing a parameterized function that maps from observation space to the parameters of the approximate posterior distribution, which is more computationally efficient.\n",
    "\n",
    "In part 2 this is used where we train the neural network for the encoder."
   ]
  },
  {
   "cell_type": "code",
   "execution_count": null,
   "metadata": {},
   "outputs": [],
   "source": []
  }
 ],
 "metadata": {
  "kernelspec": {
   "display_name": "Python 3",
   "language": "python",
   "name": "python3"
  },
  "language_info": {
   "codemirror_mode": {
    "name": "ipython",
    "version": 3
   },
   "file_extension": ".py",
   "mimetype": "text/x-python",
   "name": "python",
   "nbconvert_exporter": "python",
   "pygments_lexer": "ipython3",
   "version": "3.6.4"
  }
 },
 "nbformat": 4,
 "nbformat_minor": 2
}
